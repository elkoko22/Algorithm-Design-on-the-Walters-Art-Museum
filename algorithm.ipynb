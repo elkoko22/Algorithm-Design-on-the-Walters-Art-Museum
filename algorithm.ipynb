{
 "cells": [
  {
   "cell_type": "markdown",
   "metadata": {},
   "source": [
    "# Algorithm for recommending exhibitions for someone to explore"
   ]
  },
  {
   "cell_type": "code",
   "execution_count": 2,
   "metadata": {},
   "outputs": [],
   "source": [
    "import pandas as pd "
   ]
  },
  {
   "cell_type": "code",
   "execution_count": 47,
   "metadata": {},
   "outputs": [],
   "source": [
    "# Read the data and assign it to variables\n",
    "artworks = pd.read_csv('curateddata/Artworks.csv', sep=\",\", encoding=\"utf-8\").to_records()\n",
    "creators = pd.read_csv('curateddata/Creators.csv', sep=\",\", encoding=\"utf-8\").to_records()\n",
    "collections = pd.read_csv('curateddata/Collections.csv', sep=\",\", encoding=\"utf-8\").to_records()\n",
    "exhibitions = pd.read_csv('curateddata/Exhibitions.csv', sep=\",\", encoding=\"utf-8\").to_records()"
   ]
  },
  {
   "cell_type": "code",
   "execution_count": 31,
   "metadata": {},
   "outputs": [],
   "source": [
    "# Read the relationships and assign it to variables\n",
    "artworks_creators = pd.read_csv('curateddata/ArtworkCreator.csv', sep=\",\", encoding=\"utf-8\").to_records()\n",
    "artworks_collections = pd.read_csv('curateddata/ArtworkCollection.csv', sep=\",\", encoding=\"utf-8\").to_records()\n",
    "artworks_exhibitions = pd.read_csv('curateddata/ArtworkExhibition.csv', sep=\",\", encoding=\"utf-8\").to_records()"
   ]
  },
  {
   "cell_type": "code",
   "execution_count": 16,
   "metadata": {},
   "outputs": [],
   "source": [
    "all_exhibitions = exhibitions.to_records()"
   ]
  },
  {
   "cell_type": "code",
   "execution_count": 50,
   "metadata": {},
   "outputs": [],
   "source": [
    "def get_exhibitions_by_year(year):\n",
    "    filtered_exhibitions = [] # Create the empty table for keeping track of the recommended exhibitions (by id). \n",
    "    for exhibition in exhibitions:\n",
    "        if exhibition.exhibition_begin_year == year:\n",
    "            filtered_exhibitions.append(exhibition)\n",
    "    return filtered_exhibitions"
   ]
  },
  {
   "cell_type": "code",
   "execution_count": 39,
   "metadata": {},
   "outputs": [
    {
     "ename": "NameError",
     "evalue": "name 'filtered_exhibitions' is not defined",
     "output_type": "error",
     "traceback": [
      "\u001b[0;31m---------------------------------------------------------------------------\u001b[0m",
      "\u001b[0;31mNameError\u001b[0m                                 Traceback (most recent call last)",
      "\u001b[0;32m/var/folders/0z/1mvz8s_117dflxm7ygn_015w0000gn/T/ipykernel_3725/1656511380.py\u001b[0m in \u001b[0;36m<module>\u001b[0;34m\u001b[0m\n\u001b[0;32m----> 1\u001b[0;31m \u001b[0mfiltered_exhibitions\u001b[0m\u001b[0;34m[\u001b[0m\u001b[0;36m1\u001b[0m\u001b[0;34m]\u001b[0m\u001b[0;34m\u001b[0m\u001b[0;34m\u001b[0m\u001b[0m\n\u001b[0m",
      "\u001b[0;31mNameError\u001b[0m: name 'filtered_exhibitions' is not defined"
     ]
    }
   ],
   "source": [
    "filtered_exhibitions[1]"
   ]
  },
  {
   "cell_type": "code",
   "execution_count": 125,
   "metadata": {},
   "outputs": [],
   "source": [
    "all_exhibition_artworks = artworks_exhibitions.to_records()\n",
    "all_artworks = artworks.to_records()"
   ]
  },
  {
   "cell_type": "code",
   "execution_count": 263,
   "metadata": {},
   "outputs": [],
   "source": [
    "all_artwork_creators = artworks_creators.to_records()\n",
    "all_creators = creators.to_records()"
   ]
  },
  {
   "cell_type": "code",
   "execution_count": 159,
   "metadata": {},
   "outputs": [
    {
     "data": {
      "text/plain": [
       "dtype('int64')"
      ]
     },
     "execution_count": 159,
     "metadata": {},
     "output_type": "execute_result"
    }
   ],
   "source": [
    "all_exhibition_artworks[0].exhibition_id.dtype"
   ]
  },
  {
   "cell_type": "code",
   "execution_count": 41,
   "metadata": {},
   "outputs": [],
   "source": [
    "# Get art by an exhibition_id, find the artwork_ids that are connected to that exhibition id. \n",
    "def get_artworks_by_exhibition(given_exhibition_id):\n",
    "    filtered_artworks = []\n",
    "    for artwork_exhibition in artworks_exhibitions:\n",
    "        if artwork_exhibition.exhibition_id == given_exhibition_id:\n",
    "            for artwork in artworks: \n",
    "                if artwork.artwork_id == artwork_exhibition.artwork_id: \n",
    "                    filtered_artworks.append(artwork)\n",
    "    return filtered_artworks"
   ]
  },
  {
   "cell_type": "code",
   "execution_count": 42,
   "metadata": {},
   "outputs": [],
   "source": [
    "def get_artwork_types(artwork):\n",
    "    return artwork.artwork_type"
   ]
  },
  {
   "cell_type": "code",
   "execution_count": 54,
   "metadata": {},
   "outputs": [],
   "source": [
    "def get_artwork_creators(given_artwork_id):\n",
    "    filtered_creators = []\n",
    "    for artwork_creator in artworks_creators: \n",
    "        if artwork_creator.artwork_id == given_artwork_id: \n",
    "            for creator in creators: \n",
    "                if creator.creator_id == artwork_creator.creator_id: \n",
    "                    filtered_creators.append(creator)\n",
    "    return filtered_creators"
   ]
  },
  {
   "cell_type": "code",
   "execution_count": 56,
   "metadata": {},
   "outputs": [],
   "source": [
    "def get_gender_of_creator(creator):\n",
    "    return creator.creator_gender"
   ]
  },
  {
   "cell_type": "code",
   "execution_count": null,
   "metadata": {},
   "outputs": [],
   "source": [
    "def select_gender(gender)\n",
    "    print(\"Select a gender\")\n",
    "    if gender == \"female\":\n",
    "\n",
    "    else if gender == \"male\":\n",
    "\n",
    "    else\n",
    "        "
   ]
  },
  {
   "cell_type": "code",
   "execution_count": 52,
   "metadata": {},
   "outputs": [],
   "source": [
    "# the algorithm\n",
    "def recommend_exhibitions():\n",
    "    # Ask for input. \n",
    "    print(\"Enter a year for the exhibition you are looking for: \")\n",
    "    # Let the user enter a date and assign it to a variable.\n",
    "    selected_year = int(input())\n",
    "    print(str(selected_year))\n",
    "    exhibitions_by_year = get_exhibitions_by_year(selected_year)\n",
    "    if(len(exhibitions_by_year) > 0):\n",
    "        print(\"Exhibitions during the year \" + str(selected_year) + \":\")\n",
    "        for exhibition in exhibitions_by_year: \n",
    "            print(\"-\")\n",
    "            print(exhibition.exhibition_name) # Print title of every exhibition\n",
    "            artworks_by_exhibition = get_artworks_by_exhibition(exhibition.exhibition_id)\n",
    "            creator_genders = []\n",
    "            for artwork in artworks_by_exhibition:\n",
    "                type_of_artwork = get_artwork_types(artwork)\n",
    "                print(type_of_artwork)\n",
    "                creators_of_artwork = get_artwork_creators(artwork.artwork_id)\n",
    "                for creator in creators_of_artwork:\n",
    "                    creator_genders.append(get_gender_of_creator(creator))\n",
    "            print(\"Number of females: \" + str(creator_genders.count(\"female\")))\n",
    "    else:\n",
    "        print(\"There are no exhibitions during your selected year. Please select another year.\")\n",
    "        "
   ]
  },
  {
   "cell_type": "code",
   "execution_count": 57,
   "metadata": {},
   "outputs": [
    {
     "name": "stdout",
     "output_type": "stream",
     "text": [
      "Enter a year for the exhibition you are looking for: \n",
      "2022\n",
      "Exhibitions during the year 2022:\n",
      "-\n",
      "Léon Bonvin (1834-1866)\n",
      "Number of females: 0\n",
      "-\n",
      "Persia: Ancient Iran and the Classical World\n",
      "Number of females: 0\n",
      "-\n",
      "By Her Hand: Artemisia Gentileschi and Women Artists in Italy, 1500–1800\n",
      "portraits; oil paintings\n",
      "oil paintings (visual works); portraits\n",
      "oil paintings (visual works)\n",
      "Number of females: 3\n"
     ]
    }
   ],
   "source": [
    "recommend_exhibitions()"
   ]
  }
 ],
 "metadata": {
  "kernelspec": {
   "display_name": "base",
   "language": "python",
   "name": "python3"
  },
  "language_info": {
   "codemirror_mode": {
    "name": "ipython",
    "version": 3
   },
   "file_extension": ".py",
   "mimetype": "text/x-python",
   "name": "python",
   "nbconvert_exporter": "python",
   "pygments_lexer": "ipython3",
   "version": "3.9.13"
  }
 },
 "nbformat": 4,
 "nbformat_minor": 2
}
