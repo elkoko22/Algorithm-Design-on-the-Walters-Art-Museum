{
 "cells": [
  {
   "cell_type": "markdown",
   "metadata": {},
   "source": [
    "# Data Preprocessing for Algorithm Design\n",
    "## Art Museum"
   ]
  },
  {
   "cell_type": "code",
   "execution_count": 113,
   "metadata": {},
   "outputs": [],
   "source": [
    "import numpy as np\n",
    "import pandas as pd \n",
    "import matplotlib.pyplot as plt\n",
    "import seaborn as sns"
   ]
  },
  {
   "cell_type": "markdown",
   "metadata": {},
   "source": [
    "### Read the data"
   ]
  },
  {
   "cell_type": "code",
   "execution_count": 114,
   "metadata": {},
   "outputs": [
    {
     "data": {
      "text/html": [
       "<div>\n",
       "<style scoped>\n",
       "    .dataframe tbody tr th:only-of-type {\n",
       "        vertical-align: middle;\n",
       "    }\n",
       "\n",
       "    .dataframe tbody tr th {\n",
       "        vertical-align: top;\n",
       "    }\n",
       "\n",
       "    .dataframe thead th {\n",
       "        text-align: right;\n",
       "    }\n",
       "</style>\n",
       "<table border=\"1\" class=\"dataframe\">\n",
       "  <thead>\n",
       "    <tr style=\"text-align: right;\">\n",
       "      <th></th>\n",
       "      <th>CollectionID</th>\n",
       "      <th>CollectionName</th>\n",
       "      <th>CollDescription</th>\n",
       "      <th>NumObjects</th>\n",
       "    </tr>\n",
       "  </thead>\n",
       "  <tbody>\n",
       "    <tr>\n",
       "      <th>0</th>\n",
       "      <td>1</td>\n",
       "      <td>Textiles and Furniture                        ...</td>\n",
       "      <td>NaN</td>\n",
       "      <td>0</td>\n",
       "    </tr>\n",
       "    <tr>\n",
       "      <th>1</th>\n",
       "      <td>2</td>\n",
       "      <td>Southeast Asia                                ...</td>\n",
       "      <td>NaN</td>\n",
       "      <td>264</td>\n",
       "    </tr>\n",
       "    <tr>\n",
       "      <th>2</th>\n",
       "      <td>3</td>\n",
       "      <td>South Arabia</td>\n",
       "      <td>NaN</td>\n",
       "      <td>62</td>\n",
       "    </tr>\n",
       "    <tr>\n",
       "      <th>3</th>\n",
       "      <td>4</td>\n",
       "      <td>Roman Empire                                  ...</td>\n",
       "      <td>&lt;p&gt;The Walters&amp;rsquo; collection contains one ...</td>\n",
       "      <td>436</td>\n",
       "    </tr>\n",
       "    <tr>\n",
       "      <th>4</th>\n",
       "      <td>5</td>\n",
       "      <td>Renaissance Europe                            ...</td>\n",
       "      <td>&lt;p&gt;The Walters' collection of European Renaiss...</td>\n",
       "      <td>1021</td>\n",
       "    </tr>\n",
       "  </tbody>\n",
       "</table>\n",
       "</div>"
      ],
      "text/plain": [
       "   CollectionID                                     CollectionName  \\\n",
       "0             1  Textiles and Furniture                        ...   \n",
       "1             2  Southeast Asia                                ...   \n",
       "2             3                                       South Arabia   \n",
       "3             4  Roman Empire                                  ...   \n",
       "4             5  Renaissance Europe                            ...   \n",
       "\n",
       "                                     CollDescription  NumObjects  \n",
       "0                                                NaN           0  \n",
       "1                                                NaN         264  \n",
       "2                                                NaN          62  \n",
       "3  <p>The Walters&rsquo; collection contains one ...         436  \n",
       "4  <p>The Walters' collection of European Renaiss...        1021  "
      ]
     },
     "execution_count": 114,
     "metadata": {},
     "output_type": "execute_result"
    }
   ],
   "source": [
    "collections = pd.read_csv('originaldata/collections.csv', sep=\",\", encoding=\"utf-8\")\n",
    "collections.head()"
   ]
  },
  {
   "cell_type": "code",
   "execution_count": 115,
   "metadata": {},
   "outputs": [
    {
     "data": {
      "text/html": [
       "<div>\n",
       "<style scoped>\n",
       "    .dataframe tbody tr th:only-of-type {\n",
       "        vertical-align: middle;\n",
       "    }\n",
       "\n",
       "    .dataframe tbody tr th {\n",
       "        vertical-align: top;\n",
       "    }\n",
       "\n",
       "    .dataframe thead th {\n",
       "        text-align: right;\n",
       "    }\n",
       "</style>\n",
       "<table border=\"1\" class=\"dataframe\">\n",
       "  <thead>\n",
       "    <tr style=\"text-align: right;\">\n",
       "      <th></th>\n",
       "      <th>ExhibitionID</th>\n",
       "      <th>ExhTitle</th>\n",
       "      <th>NonWAMExhibition</th>\n",
       "      <th>ExhibitionDisplayDate</th>\n",
       "      <th>ExhibBeginDate</th>\n",
       "      <th>ExhibEndDate</th>\n",
       "      <th>ExhibBeginYear</th>\n",
       "      <th>ExhibEndYear</th>\n",
       "      <th>Textblock</th>\n",
       "      <th>LocationID</th>\n",
       "      <th>WaltersArtworks</th>\n",
       "    </tr>\n",
       "  </thead>\n",
       "  <tbody>\n",
       "    <tr>\n",
       "      <th>0</th>\n",
       "      <td>3628</td>\n",
       "      <td>Léon Bonvin (1834-1866)</td>\n",
       "      <td>True</td>\n",
       "      <td>2022-2023</td>\n",
       "      <td>NaN</td>\n",
       "      <td>NaN</td>\n",
       "      <td>2022.0</td>\n",
       "      <td>2023.0</td>\n",
       "      <td>Léon Bonvin (1834-1866). Fondation Custodia, P...</td>\n",
       "      <td>NaN</td>\n",
       "      <td>13074, 13074, 13074, 13074, 13074, 13074, 1307...</td>\n",
       "    </tr>\n",
       "    <tr>\n",
       "      <th>1</th>\n",
       "      <td>3696</td>\n",
       "      <td>Sargent, Whistler, and Venetian Glass: America...</td>\n",
       "      <td>True</td>\n",
       "      <td>2021-2023</td>\n",
       "      <td>NaN</td>\n",
       "      <td>NaN</td>\n",
       "      <td>2021.0</td>\n",
       "      <td>2023.0</td>\n",
       "      <td>Sargent, Whistler, and Venetian Glass: America...</td>\n",
       "      <td>NaN</td>\n",
       "      <td>26856, 26856, 26856, 6053, 6053, 6053, 19004, ...</td>\n",
       "    </tr>\n",
       "    <tr>\n",
       "      <th>2</th>\n",
       "      <td>3735</td>\n",
       "      <td>Hugo van der Goes</td>\n",
       "      <td>True</td>\n",
       "      <td>2021-2023</td>\n",
       "      <td>NaN</td>\n",
       "      <td>NaN</td>\n",
       "      <td>2021.0</td>\n",
       "      <td>2023.0</td>\n",
       "      <td>Hugo van der Goes. Gemaldegalerie, Berlin. 202...</td>\n",
       "      <td>NaN</td>\n",
       "      <td>26514</td>\n",
       "    </tr>\n",
       "    <tr>\n",
       "      <th>3</th>\n",
       "      <td>3786</td>\n",
       "      <td>Quiet Beauty: The Watercolors of Léon Bonvin</td>\n",
       "      <td>False</td>\n",
       "      <td>2023</td>\n",
       "      <td>NaN</td>\n",
       "      <td>NaN</td>\n",
       "      <td>2023.0</td>\n",
       "      <td>2023.0</td>\n",
       "      <td>Quiet Beauty: The Watercolors of Léon Bonvin. ...</td>\n",
       "      <td>NaN</td>\n",
       "      <td>13987, 13987, 13987, 13987, 17483, 17483, 1748...</td>\n",
       "    </tr>\n",
       "    <tr>\n",
       "      <th>4</th>\n",
       "      <td>3581</td>\n",
       "      <td>Caravans of Gold, Fragments in Time: Art, Cult...</td>\n",
       "      <td>True</td>\n",
       "      <td>2019-2022</td>\n",
       "      <td>NaN</td>\n",
       "      <td>NaN</td>\n",
       "      <td>2019.0</td>\n",
       "      <td>2022.0</td>\n",
       "      <td>Caravans of Gold, Fragments in Time: Art, Cult...</td>\n",
       "      <td>NaN</td>\n",
       "      <td>21724, 21724, 21724, 21724, 21724, 21724, 2055...</td>\n",
       "    </tr>\n",
       "  </tbody>\n",
       "</table>\n",
       "</div>"
      ],
      "text/plain": [
       "   ExhibitionID                                           ExhTitle  \\\n",
       "0          3628                            Léon Bonvin (1834-1866)   \n",
       "1          3696  Sargent, Whistler, and Venetian Glass: America...   \n",
       "2          3735                                  Hugo van der Goes   \n",
       "3          3786       Quiet Beauty: The Watercolors of Léon Bonvin   \n",
       "4          3581  Caravans of Gold, Fragments in Time: Art, Cult...   \n",
       "\n",
       "   NonWAMExhibition ExhibitionDisplayDate  ExhibBeginDate  ExhibEndDate  \\\n",
       "0              True             2022-2023             NaN           NaN   \n",
       "1              True             2021-2023             NaN           NaN   \n",
       "2              True             2021-2023             NaN           NaN   \n",
       "3             False                  2023             NaN           NaN   \n",
       "4              True             2019-2022             NaN           NaN   \n",
       "\n",
       "   ExhibBeginYear  ExhibEndYear  \\\n",
       "0          2022.0        2023.0   \n",
       "1          2021.0        2023.0   \n",
       "2          2021.0        2023.0   \n",
       "3          2023.0        2023.0   \n",
       "4          2019.0        2022.0   \n",
       "\n",
       "                                           Textblock  LocationID  \\\n",
       "0  Léon Bonvin (1834-1866). Fondation Custodia, P...         NaN   \n",
       "1  Sargent, Whistler, and Venetian Glass: America...         NaN   \n",
       "2  Hugo van der Goes. Gemaldegalerie, Berlin. 202...         NaN   \n",
       "3  Quiet Beauty: The Watercolors of Léon Bonvin. ...         NaN   \n",
       "4  Caravans of Gold, Fragments in Time: Art, Cult...         NaN   \n",
       "\n",
       "                                     WaltersArtworks  \n",
       "0  13074, 13074, 13074, 13074, 13074, 13074, 1307...  \n",
       "1  26856, 26856, 26856, 6053, 6053, 6053, 19004, ...  \n",
       "2                                              26514  \n",
       "3  13987, 13987, 13987, 13987, 17483, 17483, 1748...  \n",
       "4  21724, 21724, 21724, 21724, 21724, 21724, 2055...  "
      ]
     },
     "execution_count": 115,
     "metadata": {},
     "output_type": "execute_result"
    }
   ],
   "source": [
    "exhibitions = pd.read_csv('originaldata/exhibitions.csv', sep=\",\", encoding=\"utf-8\")\n",
    "exhibitions.head()"
   ]
  },
  {
   "cell_type": "code",
   "execution_count": 116,
   "metadata": {},
   "outputs": [
    {
     "data": {
      "text/html": [
       "<div>\n",
       "<style scoped>\n",
       "    .dataframe tbody tr th:only-of-type {\n",
       "        vertical-align: middle;\n",
       "    }\n",
       "\n",
       "    .dataframe tbody tr th {\n",
       "        vertical-align: top;\n",
       "    }\n",
       "\n",
       "    .dataframe thead th {\n",
       "        text-align: right;\n",
       "    }\n",
       "</style>\n",
       "<table border=\"1\" class=\"dataframe\">\n",
       "  <thead>\n",
       "    <tr style=\"text-align: right;\">\n",
       "      <th></th>\n",
       "      <th>id</th>\n",
       "      <th>sort_name</th>\n",
       "      <th>name</th>\n",
       "      <th>CreatorURL</th>\n",
       "      <th>gender</th>\n",
       "      <th>biography</th>\n",
       "      <th>date</th>\n",
       "      <th>CreatorArt</th>\n",
       "    </tr>\n",
       "  </thead>\n",
       "  <tbody>\n",
       "    <tr>\n",
       "      <th>0</th>\n",
       "      <td>6741</td>\n",
       "      <td>'Abbasi, Riza</td>\n",
       "      <td>Riza 'Abbasi</td>\n",
       "      <td>https://art.thewalters.org/browse/creator/riza...</td>\n",
       "      <td>NaN</td>\n",
       "      <td>NaN</td>\n",
       "      <td>(Persian, ca. 1565-1635)</td>\n",
       "      <td>37361, 34627, 33104, 26833, 25935, 9485, 4103,...</td>\n",
       "    </tr>\n",
       "    <tr>\n",
       "      <th>1</th>\n",
       "      <td>4237</td>\n",
       "      <td>'Abbasi, Shaykh</td>\n",
       "      <td>Shaykh 'Abbasi</td>\n",
       "      <td>https://art.thewalters.org/browse/creator/shay...</td>\n",
       "      <td>NaN</td>\n",
       "      <td>NaN</td>\n",
       "      <td>(Persian, active 1650-1684)</td>\n",
       "      <td>33104, 25935, 19347, 987, 7066, 84294, 84260</td>\n",
       "    </tr>\n",
       "    <tr>\n",
       "      <th>2</th>\n",
       "      <td>19270</td>\n",
       "      <td>'Abd al-Razzaq, Abu Mansur Muhammad ibn</td>\n",
       "      <td>Abu Mansur Muhammad ibn 'Abd al-Razzaq</td>\n",
       "      <td>https://art.thewalters.org/browse/creator/abu-...</td>\n",
       "      <td>NaN</td>\n",
       "      <td>NaN</td>\n",
       "      <td>NaN</td>\n",
       "      <td>7066, 83514</td>\n",
       "    </tr>\n",
       "    <tr>\n",
       "      <th>3</th>\n",
       "      <td>19395</td>\n",
       "      <td>'Ali</td>\n",
       "      <td>'Ali</td>\n",
       "      <td>https://art.thewalters.org/browse/creator/ali</td>\n",
       "      <td>NaN</td>\n",
       "      <td>NaN</td>\n",
       "      <td>NaN</td>\n",
       "      <td>19840, 90954, 90955</td>\n",
       "    </tr>\n",
       "    <tr>\n",
       "      <th>4</th>\n",
       "      <td>16856</td>\n",
       "      <td>'Ali Sultan</td>\n",
       "      <td>Sultan 'Ali</td>\n",
       "      <td>https://art.thewalters.org/browse/creator/sult...</td>\n",
       "      <td>NaN</td>\n",
       "      <td>NaN</td>\n",
       "      <td>NaN</td>\n",
       "      <td>82840, 80051, 11787, 90218</td>\n",
       "    </tr>\n",
       "  </tbody>\n",
       "</table>\n",
       "</div>"
      ],
      "text/plain": [
       "      id                                sort_name  \\\n",
       "0   6741                            'Abbasi, Riza   \n",
       "1   4237                          'Abbasi, Shaykh   \n",
       "2  19270  'Abd al-Razzaq, Abu Mansur Muhammad ibn   \n",
       "3  19395                                     'Ali   \n",
       "4  16856                              'Ali Sultan   \n",
       "\n",
       "                                     name  \\\n",
       "0                            Riza 'Abbasi   \n",
       "1                          Shaykh 'Abbasi   \n",
       "2  Abu Mansur Muhammad ibn 'Abd al-Razzaq   \n",
       "3                                    'Ali   \n",
       "4                             Sultan 'Ali   \n",
       "\n",
       "                                          CreatorURL gender biography  \\\n",
       "0  https://art.thewalters.org/browse/creator/riza...    NaN       NaN   \n",
       "1  https://art.thewalters.org/browse/creator/shay...    NaN       NaN   \n",
       "2  https://art.thewalters.org/browse/creator/abu-...    NaN       NaN   \n",
       "3      https://art.thewalters.org/browse/creator/ali    NaN       NaN   \n",
       "4  https://art.thewalters.org/browse/creator/sult...    NaN       NaN   \n",
       "\n",
       "                           date  \\\n",
       "0      (Persian, ca. 1565-1635)   \n",
       "1   (Persian, active 1650-1684)   \n",
       "2                           NaN   \n",
       "3                           NaN   \n",
       "4                           NaN   \n",
       "\n",
       "                                          CreatorArt  \n",
       "0  37361, 34627, 33104, 26833, 25935, 9485, 4103,...  \n",
       "1       33104, 25935, 19347, 987, 7066, 84294, 84260  \n",
       "2                                        7066, 83514  \n",
       "3                                19840, 90954, 90955  \n",
       "4                         82840, 80051, 11787, 90218  "
      ]
     },
     "execution_count": 116,
     "metadata": {},
     "output_type": "execute_result"
    }
   ],
   "source": [
    "creators = pd.read_csv('originaldata/creators.csv', sep=\",\", encoding=\"utf-8\")\n",
    "creators.head()"
   ]
  },
  {
   "cell_type": "code",
   "execution_count": 117,
   "metadata": {},
   "outputs": [
    {
     "name": "stderr",
     "output_type": "stream",
     "text": [
      "/var/folders/0z/1mvz8s_117dflxm7ygn_015w0000gn/T/ipykernel_4021/3515539729.py:1: DtypeWarning: Columns (13) have mixed types. Specify dtype option on import or set low_memory=False.\n",
      "  artworks = pd.read_csv('originaldata/art.csv', sep=\",\", encoding=\"utf-8\")\n"
     ]
    },
    {
     "data": {
      "text/html": [
       "<div>\n",
       "<style scoped>\n",
       "    .dataframe tbody tr th:only-of-type {\n",
       "        vertical-align: middle;\n",
       "    }\n",
       "\n",
       "    .dataframe tbody tr th {\n",
       "        vertical-align: top;\n",
       "    }\n",
       "\n",
       "    .dataframe thead th {\n",
       "        text-align: right;\n",
       "    }\n",
       "</style>\n",
       "<table border=\"1\" class=\"dataframe\">\n",
       "  <thead>\n",
       "    <tr style=\"text-align: right;\">\n",
       "      <th></th>\n",
       "      <th>ObjectID</th>\n",
       "      <th>ObjectNumber</th>\n",
       "      <th>SortNumber</th>\n",
       "      <th>ObjectName</th>\n",
       "      <th>DateBeginYear</th>\n",
       "      <th>DateEndYear</th>\n",
       "      <th>DateText</th>\n",
       "      <th>Title</th>\n",
       "      <th>Dimensions</th>\n",
       "      <th>Medium</th>\n",
       "      <th>...</th>\n",
       "      <th>LatitudeNumber</th>\n",
       "      <th>LongitudeNumber</th>\n",
       "      <th>RelatedObjects</th>\n",
       "      <th>Images</th>\n",
       "      <th>CollectionID</th>\n",
       "      <th>CollectionName</th>\n",
       "      <th>MuseumLocation</th>\n",
       "      <th>LocationString</th>\n",
       "      <th>Creators</th>\n",
       "      <th>Exhibitions</th>\n",
       "    </tr>\n",
       "  </thead>\n",
       "  <tbody>\n",
       "    <tr>\n",
       "      <th>0</th>\n",
       "      <td>7</td>\n",
       "      <td>54.975</td>\n",
       "      <td>54.975</td>\n",
       "      <td>statuettes (statues)</td>\n",
       "      <td>-425</td>\n",
       "      <td>-400</td>\n",
       "      <td>late 5th century BCE (Classical)</td>\n",
       "      <td>Zeus</td>\n",
       "      <td>H: 13 7/8 in. (35.3 cm)</td>\n",
       "      <td>bronze</td>\n",
       "      <td>...</td>\n",
       "      <td>NaN</td>\n",
       "      <td>NaN</td>\n",
       "      <td>NaN</td>\n",
       "      <td>PS1_54.975_Back_DD_T08.jpg, PS1_54.975_Fnt_DD_...</td>\n",
       "      <td>ROM</td>\n",
       "      <td>Ancient Art</td>\n",
       "      <td>To find out whether this object is currently o...</td>\n",
       "      <td>NaN</td>\n",
       "      <td>6291, 3705</td>\n",
       "      <td>NaN</td>\n",
       "    </tr>\n",
       "    <tr>\n",
       "      <th>1</th>\n",
       "      <td>11</td>\n",
       "      <td>42.188</td>\n",
       "      <td>42.188</td>\n",
       "      <td>finger rings; beads; plaques (flat objects)</td>\n",
       "      <td>-1479</td>\n",
       "      <td>-1185</td>\n",
       "      <td>1479-1185 BCE (New Kingdom, Dynasty 18-19)</td>\n",
       "      <td>Unfinished Ring with Flat Bead</td>\n",
       "      <td>H: 3/8 x W: 1/2 (0.99 x 1.33 x 0.04 cm); Ring ...</td>\n",
       "      <td>carved yellow jasper and gold</td>\n",
       "      <td>...</td>\n",
       "      <td>NaN</td>\n",
       "      <td>NaN</td>\n",
       "      <td>NaN</td>\n",
       "      <td>CUR_42.188_SideA_DD_RS2009.jpg, CUR_42.188_Top...</td>\n",
       "      <td>EGY, JWL</td>\n",
       "      <td>Ancient Art</td>\n",
       "      <td>To find out whether this object is currently o...</td>\n",
       "      <td>NaN</td>\n",
       "      <td>6182</td>\n",
       "      <td>2513</td>\n",
       "    </tr>\n",
       "    <tr>\n",
       "      <th>2</th>\n",
       "      <td>14</td>\n",
       "      <td>42.86</td>\n",
       "      <td>42.86</td>\n",
       "      <td>beads (pierced objects); spacers</td>\n",
       "      <td>-1388</td>\n",
       "      <td>-1350</td>\n",
       "      <td>1388-1350 BCE (New Kingdom, Dynasty 18)</td>\n",
       "      <td>Spacer with Cartouche of Amenophis III</td>\n",
       "      <td>H: 7/8 x W: 1/4 x D: 1/16 in. (2.22 x 0.71 x 0...</td>\n",
       "      <td>Egyptian faience with blue and white glaze</td>\n",
       "      <td>...</td>\n",
       "      <td>NaN</td>\n",
       "      <td>NaN</td>\n",
       "      <td>NaN</td>\n",
       "      <td>CUR_42.86_SideA_DD_RS2009.jpg, CUR_42.86_Rev_D...</td>\n",
       "      <td>EGY, JWL</td>\n",
       "      <td>Ancient Art</td>\n",
       "      <td>To find out whether this object is currently o...</td>\n",
       "      <td>NaN</td>\n",
       "      <td>6182</td>\n",
       "      <td>2513</td>\n",
       "    </tr>\n",
       "    <tr>\n",
       "      <th>3</th>\n",
       "      <td>22</td>\n",
       "      <td>48.1367</td>\n",
       "      <td>48.1367</td>\n",
       "      <td>plates</td>\n",
       "      <td>1513</td>\n",
       "      <td>1537</td>\n",
       "      <td>ca. 1525-1530 (Renaissance)</td>\n",
       "      <td>Dish with Foliage Design</td>\n",
       "      <td>1 7/8 x 8 9/16 in. (4.7 x 21.7 cm)</td>\n",
       "      <td>earthenware with tin glaze (maiolica) and lust...</td>\n",
       "      <td>...</td>\n",
       "      <td>NaN</td>\n",
       "      <td>NaN</td>\n",
       "      <td>NaN</td>\n",
       "      <td>PL9_48.1367_Fnt_SL.jpg, PL2_48.1367_Back_BW.jpg</td>\n",
       "      <td>REN</td>\n",
       "      <td>Renaissance and Baroque Art</td>\n",
       "      <td>To find out whether this object is currently o...</td>\n",
       "      <td>NaN</td>\n",
       "      <td>33562</td>\n",
       "      <td>NaN</td>\n",
       "    </tr>\n",
       "    <tr>\n",
       "      <th>4</th>\n",
       "      <td>35</td>\n",
       "      <td>W.863</td>\n",
       "      <td>W.863</td>\n",
       "      <td>miniatures (paintings)</td>\n",
       "      <td>1775</td>\n",
       "      <td>1800</td>\n",
       "      <td>1775-1800</td>\n",
       "      <td>Krishna Steals the Gopis' Clothing</td>\n",
       "      <td>H: 9 13/16 x W: 7 5/16 in. (25 x 18.5 cm); Ima...</td>\n",
       "      <td>opaque watercolor and gold paint on paper</td>\n",
       "      <td>...</td>\n",
       "      <td>NaN</td>\n",
       "      <td>NaN</td>\n",
       "      <td>NaN</td>\n",
       "      <td>PS1_W.863_Fnt_DD_T10.jpg</td>\n",
       "      <td>INT</td>\n",
       "      <td>South and Southeast Asian Art</td>\n",
       "      <td>To find out whether this object is currently o...</td>\n",
       "      <td>NaN</td>\n",
       "      <td>2191</td>\n",
       "      <td>1983, 2071</td>\n",
       "    </tr>\n",
       "  </tbody>\n",
       "</table>\n",
       "<p>5 rows × 39 columns</p>\n",
       "</div>"
      ],
      "text/plain": [
       "   ObjectID ObjectNumber SortNumber  \\\n",
       "0         7       54.975     54.975   \n",
       "1        11       42.188     42.188   \n",
       "2        14        42.86      42.86   \n",
       "3        22      48.1367    48.1367   \n",
       "4        35        W.863      W.863   \n",
       "\n",
       "                                    ObjectName  DateBeginYear  DateEndYear  \\\n",
       "0                         statuettes (statues)           -425         -400   \n",
       "1  finger rings; beads; plaques (flat objects)          -1479        -1185   \n",
       "2             beads (pierced objects); spacers          -1388        -1350   \n",
       "3                                       plates           1513         1537   \n",
       "4                       miniatures (paintings)           1775         1800   \n",
       "\n",
       "                                     DateText  \\\n",
       "0            late 5th century BCE (Classical)   \n",
       "1  1479-1185 BCE (New Kingdom, Dynasty 18-19)   \n",
       "2     1388-1350 BCE (New Kingdom, Dynasty 18)   \n",
       "3                 ca. 1525-1530 (Renaissance)   \n",
       "4                                   1775-1800   \n",
       "\n",
       "                                    Title  \\\n",
       "0                                    Zeus   \n",
       "1          Unfinished Ring with Flat Bead   \n",
       "2  Spacer with Cartouche of Amenophis III   \n",
       "3                Dish with Foliage Design   \n",
       "4      Krishna Steals the Gopis' Clothing   \n",
       "\n",
       "                                          Dimensions  \\\n",
       "0                            H: 13 7/8 in. (35.3 cm)   \n",
       "1  H: 3/8 x W: 1/2 (0.99 x 1.33 x 0.04 cm); Ring ...   \n",
       "2  H: 7/8 x W: 1/4 x D: 1/16 in. (2.22 x 0.71 x 0...   \n",
       "3                 1 7/8 x 8 9/16 in. (4.7 x 21.7 cm)   \n",
       "4  H: 9 13/16 x W: 7 5/16 in. (25 x 18.5 cm); Ima...   \n",
       "\n",
       "                                              Medium  ... LatitudeNumber  \\\n",
       "0                                             bronze  ...            NaN   \n",
       "1                      carved yellow jasper and gold  ...            NaN   \n",
       "2         Egyptian faience with blue and white glaze  ...            NaN   \n",
       "3  earthenware with tin glaze (maiolica) and lust...  ...            NaN   \n",
       "4          opaque watercolor and gold paint on paper  ...            NaN   \n",
       "\n",
       "  LongitudeNumber RelatedObjects  \\\n",
       "0             NaN            NaN   \n",
       "1             NaN            NaN   \n",
       "2             NaN            NaN   \n",
       "3             NaN            NaN   \n",
       "4             NaN            NaN   \n",
       "\n",
       "                                              Images  CollectionID  \\\n",
       "0  PS1_54.975_Back_DD_T08.jpg, PS1_54.975_Fnt_DD_...           ROM   \n",
       "1  CUR_42.188_SideA_DD_RS2009.jpg, CUR_42.188_Top...      EGY, JWL   \n",
       "2  CUR_42.86_SideA_DD_RS2009.jpg, CUR_42.86_Rev_D...      EGY, JWL   \n",
       "3    PL9_48.1367_Fnt_SL.jpg, PL2_48.1367_Back_BW.jpg           REN   \n",
       "4                           PS1_W.863_Fnt_DD_T10.jpg           INT   \n",
       "\n",
       "                  CollectionName  \\\n",
       "0                    Ancient Art   \n",
       "1                    Ancient Art   \n",
       "2                    Ancient Art   \n",
       "3    Renaissance and Baroque Art   \n",
       "4  South and Southeast Asian Art   \n",
       "\n",
       "                                      MuseumLocation LocationString  \\\n",
       "0  To find out whether this object is currently o...            NaN   \n",
       "1  To find out whether this object is currently o...            NaN   \n",
       "2  To find out whether this object is currently o...            NaN   \n",
       "3  To find out whether this object is currently o...            NaN   \n",
       "4  To find out whether this object is currently o...            NaN   \n",
       "\n",
       "     Creators Exhibitions  \n",
       "0  6291, 3705         NaN  \n",
       "1        6182        2513  \n",
       "2        6182        2513  \n",
       "3       33562         NaN  \n",
       "4        2191  1983, 2071  \n",
       "\n",
       "[5 rows x 39 columns]"
      ]
     },
     "execution_count": 117,
     "metadata": {},
     "output_type": "execute_result"
    }
   ],
   "source": [
    "artworks = pd.read_csv('originaldata/art.csv', sep=\",\", encoding=\"utf-8\")\n",
    "artworks.head()"
   ]
  },
  {
   "cell_type": "markdown",
   "metadata": {},
   "source": [
    "### Select relevant features"
   ]
  },
  {
   "cell_type": "code",
   "execution_count": 118,
   "metadata": {},
   "outputs": [
    {
     "data": {
      "text/plain": [
       "Index(['CollectionID', 'CollectionName', 'CollDescription', 'NumObjects'], dtype='object')"
      ]
     },
     "execution_count": 118,
     "metadata": {},
     "output_type": "execute_result"
    }
   ],
   "source": [
    "# Selected features\n",
    "collection_features =['CollectionID', 'CollectionName', 'CollDescription', 'NumObjects']\n",
    "museum_collection = collections[collection_features]\n",
    "museum_collection.columns"
   ]
  },
  {
   "cell_type": "code",
   "execution_count": 119,
   "metadata": {},
   "outputs": [
    {
     "data": {
      "text/plain": [
       "Index(['ExhibitionID', 'ExhTitle', 'ExhibBeginYear', 'ExhibEndYear'], dtype='object')"
      ]
     },
     "execution_count": 119,
     "metadata": {},
     "output_type": "execute_result"
    }
   ],
   "source": [
    "# Selected features \n",
    "# these features ('LocationID', 'WaltersArtworks') are foreign keys and should be included in another table for relations\n",
    "exhibition_features =['ExhibitionID', 'ExhTitle', \n",
    "       'ExhibBeginYear', 'ExhibEndYear']\n",
    "museum_exhibition = exhibitions[exhibition_features]\n",
    "museum_exhibition.columns"
   ]
  },
  {
   "cell_type": "code",
   "execution_count": 120,
   "metadata": {},
   "outputs": [
    {
     "data": {
      "text/plain": [
       "Index(['id', 'name', 'CreatorURL', 'gender', 'date'], dtype='object')"
      ]
     },
     "execution_count": 120,
     "metadata": {},
     "output_type": "execute_result"
    }
   ],
   "source": [
    "# Selected features \n",
    "# this feature ('CreatorArt') is a foreign key and should be included in another table for relations\n",
    "creator_features =['id', 'name', 'CreatorURL', 'gender', 'date']\n",
    "museum_creator = creators[creator_features]\n",
    "museum_creator.columns"
   ]
  },
  {
   "cell_type": "code",
   "execution_count": 121,
   "metadata": {},
   "outputs": [
    {
     "data": {
      "text/plain": [
       "Index(['ObjectID', 'ObjectName', 'DateBeginYear', 'DateEndYear', 'Title',\n",
       "       'Medium', 'ResourceURL', 'Description', 'Images'],\n",
       "      dtype='object')"
      ]
     },
     "execution_count": 121,
     "metadata": {},
     "output_type": "execute_result"
    }
   ],
   "source": [
    "# Selected features \n",
    "# these features ('CollectionID', 'Creators', 'Exhibitions') are foreign keys and should be included in another table for relations\n",
    "art_features =['ObjectID', 'ObjectName', 'DateBeginYear',\n",
    "       'DateEndYear', 'Title', 'Medium', \n",
    "       'ResourceURL', 'Description', 'Images']\n",
    "museum_artwork = artworks[art_features]\n",
    "museum_artwork.columns"
   ]
  },
  {
   "cell_type": "markdown",
   "metadata": {},
   "source": [
    "### Extract the many to many relationships"
   ]
  },
  {
   "cell_type": "code",
   "execution_count": 122,
   "metadata": {},
   "outputs": [
    {
     "data": {
      "text/plain": [
       "Index(['ObjectID', 'Exhibitions'], dtype='object')"
      ]
     },
     "execution_count": 122,
     "metadata": {},
     "output_type": "execute_result"
    }
   ],
   "source": [
    "# the many to many relationship between exhibition and artwork\n",
    "exhibition_artwork_features = ['ObjectID', 'Exhibitions']\n",
    "museum_artwork_exhibition = artworks[exhibition_artwork_features]\n",
    "museum_artwork_exhibition.columns"
   ]
  },
  {
   "cell_type": "code",
   "execution_count": 123,
   "metadata": {},
   "outputs": [
    {
     "data": {
      "text/html": [
       "<div>\n",
       "<style scoped>\n",
       "    .dataframe tbody tr th:only-of-type {\n",
       "        vertical-align: middle;\n",
       "    }\n",
       "\n",
       "    .dataframe tbody tr th {\n",
       "        vertical-align: top;\n",
       "    }\n",
       "\n",
       "    .dataframe thead th {\n",
       "        text-align: right;\n",
       "    }\n",
       "</style>\n",
       "<table border=\"1\" class=\"dataframe\">\n",
       "  <thead>\n",
       "    <tr style=\"text-align: right;\">\n",
       "      <th></th>\n",
       "      <th>ObjectID</th>\n",
       "      <th>Exhibitions</th>\n",
       "    </tr>\n",
       "  </thead>\n",
       "  <tbody>\n",
       "    <tr>\n",
       "      <th>0</th>\n",
       "      <td>7</td>\n",
       "      <td>NaN</td>\n",
       "    </tr>\n",
       "    <tr>\n",
       "      <th>1</th>\n",
       "      <td>11</td>\n",
       "      <td>2513</td>\n",
       "    </tr>\n",
       "    <tr>\n",
       "      <th>2</th>\n",
       "      <td>14</td>\n",
       "      <td>2513</td>\n",
       "    </tr>\n",
       "    <tr>\n",
       "      <th>3</th>\n",
       "      <td>22</td>\n",
       "      <td>NaN</td>\n",
       "    </tr>\n",
       "    <tr>\n",
       "      <th>4</th>\n",
       "      <td>35</td>\n",
       "      <td>1983, 2071</td>\n",
       "    </tr>\n",
       "  </tbody>\n",
       "</table>\n",
       "</div>"
      ],
      "text/plain": [
       "   ObjectID Exhibitions\n",
       "0         7         NaN\n",
       "1        11        2513\n",
       "2        14        2513\n",
       "3        22         NaN\n",
       "4        35  1983, 2071"
      ]
     },
     "execution_count": 123,
     "metadata": {},
     "output_type": "execute_result"
    }
   ],
   "source": [
    "museum_artwork_exhibition.head()"
   ]
  },
  {
   "cell_type": "code",
   "execution_count": 124,
   "metadata": {},
   "outputs": [
    {
     "data": {
      "text/plain": [
       "(7236, 2)"
      ]
     },
     "execution_count": 124,
     "metadata": {},
     "output_type": "execute_result"
    }
   ],
   "source": [
    "# We only need the artworks that has been in an exhibition, we can drop every row that misses\n",
    "museum_artwork_exhibition = museum_artwork_exhibition.dropna()\n",
    "museum_artwork_exhibition.shape"
   ]
  },
  {
   "cell_type": "code",
   "execution_count": 125,
   "metadata": {},
   "outputs": [
    {
     "data": {
      "text/html": [
       "<div>\n",
       "<style scoped>\n",
       "    .dataframe tbody tr th:only-of-type {\n",
       "        vertical-align: middle;\n",
       "    }\n",
       "\n",
       "    .dataframe tbody tr th {\n",
       "        vertical-align: top;\n",
       "    }\n",
       "\n",
       "    .dataframe thead th {\n",
       "        text-align: right;\n",
       "    }\n",
       "</style>\n",
       "<table border=\"1\" class=\"dataframe\">\n",
       "  <thead>\n",
       "    <tr style=\"text-align: right;\">\n",
       "      <th></th>\n",
       "      <th>ObjectID</th>\n",
       "      <th>Exhibitions</th>\n",
       "    </tr>\n",
       "  </thead>\n",
       "  <tbody>\n",
       "    <tr>\n",
       "      <th>1</th>\n",
       "      <td>11</td>\n",
       "      <td>[2513]</td>\n",
       "    </tr>\n",
       "    <tr>\n",
       "      <th>2</th>\n",
       "      <td>14</td>\n",
       "      <td>[2513]</td>\n",
       "    </tr>\n",
       "    <tr>\n",
       "      <th>4</th>\n",
       "      <td>35</td>\n",
       "      <td>[1983,  2071]</td>\n",
       "    </tr>\n",
       "    <tr>\n",
       "      <th>7</th>\n",
       "      <td>61</td>\n",
       "      <td>[2069,  432]</td>\n",
       "    </tr>\n",
       "    <tr>\n",
       "      <th>8</th>\n",
       "      <td>62</td>\n",
       "      <td>[2089]</td>\n",
       "    </tr>\n",
       "  </tbody>\n",
       "</table>\n",
       "</div>"
      ],
      "text/plain": [
       "   ObjectID    Exhibitions\n",
       "1        11         [2513]\n",
       "2        14         [2513]\n",
       "4        35  [1983,  2071]\n",
       "7        61   [2069,  432]\n",
       "8        62         [2089]"
      ]
     },
     "execution_count": 125,
     "metadata": {},
     "output_type": "execute_result"
    }
   ],
   "source": [
    "# Splitting the values for making a list\n",
    "museum_artwork_exhibition['Exhibitions'] = museum_artwork_exhibition['Exhibitions'].apply(lambda x: x.split(','))\n",
    "museum_artwork_exhibition.head()"
   ]
  },
  {
   "cell_type": "code",
   "execution_count": 126,
   "metadata": {},
   "outputs": [
    {
     "data": {
      "text/plain": [
       "(14182, 2)"
      ]
     },
     "execution_count": 126,
     "metadata": {},
     "output_type": "execute_result"
    }
   ],
   "source": [
    "# Each value should get an own row for normalizing the table of the many to many relation\n",
    "museum_artwork_exhibition = museum_artwork_exhibition.explode('Exhibitions')\n",
    "museum_artwork_exhibition.shape"
   ]
  },
  {
   "cell_type": "code",
   "execution_count": 127,
   "metadata": {},
   "outputs": [
    {
     "data": {
      "text/plain": [
       "Index(['ObjectID', 'Creators'], dtype='object')"
      ]
     },
     "execution_count": 127,
     "metadata": {},
     "output_type": "execute_result"
    }
   ],
   "source": [
    "# the many to many relationship between creator and artwork\n",
    "creator_artwork_features = ['ObjectID', 'Creators']\n",
    "museum_artwork_creator = artworks[creator_artwork_features]\n",
    "museum_artwork_creator.columns"
   ]
  },
  {
   "cell_type": "code",
   "execution_count": 128,
   "metadata": {},
   "outputs": [
    {
     "data": {
      "text/plain": [
       "(25530, 2)"
      ]
     },
     "execution_count": 128,
     "metadata": {},
     "output_type": "execute_result"
    }
   ],
   "source": [
    "museum_artwork_creator = museum_artwork_creator.dropna()\n",
    "museum_artwork_creator['Creators'] = museum_artwork_creator['Creators'].apply(lambda x: x.split(','))\n",
    "museum_artwork_creator = museum_artwork_creator.explode('Creators')\n",
    "museum_artwork_creator.shape"
   ]
  },
  {
   "cell_type": "code",
   "execution_count": 129,
   "metadata": {},
   "outputs": [
    {
     "data": {
      "text/plain": [
       "Index(['ObjectID', 'CollectionID'], dtype='object')"
      ]
     },
     "execution_count": 129,
     "metadata": {},
     "output_type": "execute_result"
    }
   ],
   "source": [
    "# the many to many relationship between collection and artwork\n",
    "collection_artwork_features = ['ObjectID', 'CollectionID']\n",
    "museum_artwork_collection = artworks[collection_artwork_features]\n",
    "museum_artwork_collection.columns"
   ]
  },
  {
   "cell_type": "code",
   "execution_count": 130,
   "metadata": {},
   "outputs": [
    {
     "data": {
      "text/plain": [
       "EAN              2909\n",
       "MSS, ISL, MIS    1780\n",
       "JMA              1331\n",
       "JPK              1322\n",
       "REN              1021\n",
       "                 ... \n",
       "SAY, ARM            1\n",
       "BAR, NUM            1\n",
       "BAR, ROM            1\n",
       "EGYJWL              1\n",
       "MIS                 1\n",
       "Name: CollectionID, Length: 196, dtype: int64"
      ]
     },
     "execution_count": 130,
     "metadata": {},
     "output_type": "execute_result"
    }
   ],
   "source": [
    "museum_artwork_collection.CollectionID.value_counts()"
   ]
  },
  {
   "cell_type": "code",
   "execution_count": 131,
   "metadata": {},
   "outputs": [
    {
     "data": {
      "text/html": [
       "<div>\n",
       "<style scoped>\n",
       "    .dataframe tbody tr th:only-of-type {\n",
       "        vertical-align: middle;\n",
       "    }\n",
       "\n",
       "    .dataframe tbody tr th {\n",
       "        vertical-align: top;\n",
       "    }\n",
       "\n",
       "    .dataframe thead th {\n",
       "        text-align: right;\n",
       "    }\n",
       "</style>\n",
       "<table border=\"1\" class=\"dataframe\">\n",
       "  <thead>\n",
       "    <tr style=\"text-align: right;\">\n",
       "      <th></th>\n",
       "      <th>CollectionID</th>\n",
       "      <th>CollectionName</th>\n",
       "      <th>CollDescription</th>\n",
       "      <th>NumObjects</th>\n",
       "    </tr>\n",
       "  </thead>\n",
       "  <tbody>\n",
       "    <tr>\n",
       "      <th>3</th>\n",
       "      <td>4</td>\n",
       "      <td>Roman Empire                                  ...</td>\n",
       "      <td>&lt;p&gt;The Walters&amp;rsquo; collection contains one ...</td>\n",
       "      <td>436</td>\n",
       "    </tr>\n",
       "  </tbody>\n",
       "</table>\n",
       "</div>"
      ],
      "text/plain": [
       "   CollectionID                                     CollectionName  \\\n",
       "3             4  Roman Empire                                  ...   \n",
       "\n",
       "                                     CollDescription  NumObjects  \n",
       "3  <p>The Walters&rsquo; collection contains one ...         436  "
      ]
     },
     "execution_count": 131,
     "metadata": {},
     "output_type": "execute_result"
    }
   ],
   "source": [
    "# It is not clear which collection the artwork belongs to because it is referenced by an undefined abbreviation and number of objects\n",
    "museum_collection.loc[museum_collection.NumObjects == 436]"
   ]
  },
  {
   "cell_type": "code",
   "execution_count": 132,
   "metadata": {},
   "outputs": [
    {
     "data": {
      "text/plain": [
       "(17903, 2)"
      ]
     },
     "execution_count": 132,
     "metadata": {},
     "output_type": "execute_result"
    }
   ],
   "source": [
    "museum_artwork_collection = museum_artwork_collection.dropna()\n",
    "museum_artwork_collection.shape"
   ]
  },
  {
   "cell_type": "markdown",
   "metadata": {},
   "source": [
    "#### Reference as abbreviation"
   ]
  },
  {
   "cell_type": "code",
   "execution_count": 133,
   "metadata": {},
   "outputs": [],
   "source": [
    "modified_artwork_collection = museum_artwork_collection.copy()\n",
    "original_artwork_collection = museum_artwork_collection.copy()"
   ]
  },
  {
   "cell_type": "code",
   "execution_count": 134,
   "metadata": {},
   "outputs": [],
   "source": [
    "# Regular expression is needed to create a valid format for abbreviations\n",
    "import re\n",
    "modified_artwork_collection['CollectionID'] = list(modified_artwork_collection['CollectionID'].apply(lambda x: re.findall(\"[A-Z]{3}\", x.upper())))"
   ]
  },
  {
   "cell_type": "code",
   "execution_count": 135,
   "metadata": {},
   "outputs": [
    {
     "data": {
      "text/html": [
       "<div>\n",
       "<style scoped>\n",
       "    .dataframe tbody tr th:only-of-type {\n",
       "        vertical-align: middle;\n",
       "    }\n",
       "\n",
       "    .dataframe tbody tr th {\n",
       "        vertical-align: top;\n",
       "    }\n",
       "\n",
       "    .dataframe thead th {\n",
       "        text-align: right;\n",
       "    }\n",
       "</style>\n",
       "<table border=\"1\" class=\"dataframe\">\n",
       "  <thead>\n",
       "    <tr style=\"text-align: right;\">\n",
       "      <th></th>\n",
       "      <th>ObjectID</th>\n",
       "      <th>CollectionID</th>\n",
       "    </tr>\n",
       "  </thead>\n",
       "  <tbody>\n",
       "    <tr>\n",
       "      <th>0</th>\n",
       "      <td>7</td>\n",
       "      <td>[ROM]</td>\n",
       "    </tr>\n",
       "    <tr>\n",
       "      <th>1</th>\n",
       "      <td>11</td>\n",
       "      <td>[EGY, JWL]</td>\n",
       "    </tr>\n",
       "    <tr>\n",
       "      <th>2</th>\n",
       "      <td>14</td>\n",
       "      <td>[EGY, JWL]</td>\n",
       "    </tr>\n",
       "    <tr>\n",
       "      <th>3</th>\n",
       "      <td>22</td>\n",
       "      <td>[REN]</td>\n",
       "    </tr>\n",
       "    <tr>\n",
       "      <th>4</th>\n",
       "      <td>35</td>\n",
       "      <td>[INT]</td>\n",
       "    </tr>\n",
       "  </tbody>\n",
       "</table>\n",
       "</div>"
      ],
      "text/plain": [
       "   ObjectID CollectionID\n",
       "0         7        [ROM]\n",
       "1        11   [EGY, JWL]\n",
       "2        14   [EGY, JWL]\n",
       "3        22        [REN]\n",
       "4        35        [INT]"
      ]
     },
     "execution_count": 135,
     "metadata": {},
     "output_type": "execute_result"
    }
   ],
   "source": [
    "# The number of abbreviations has to be mapped against the original values\n",
    "original_artwork_collection['CollectionID'] = original_artwork_collection['CollectionID'].apply(lambda x: re.findall(\"[A-Z]{3}\", x))\n",
    "original_artwork_collection.head()"
   ]
  },
  {
   "cell_type": "code",
   "execution_count": 136,
   "metadata": {},
   "outputs": [
    {
     "data": {
      "text/plain": [
       "[EAN]                   2909\n",
       "[MSS, ISL, MIS]         1781\n",
       "[JMA]                   1331\n",
       "[JPK]                   1326\n",
       "[REN]                   1021\n",
       "                        ... \n",
       "[JWL, ETH]                 1\n",
       "[EAN, INT]                 1\n",
       "[CHN, ISL]                 1\n",
       "[MSS, IIS, MIS, INT]       1\n",
       "[MIS]                      1\n",
       "Name: CollectionID, Length: 191, dtype: int64"
      ]
     },
     "execution_count": 136,
     "metadata": {},
     "output_type": "execute_result"
    }
   ],
   "source": [
    "# The number of objects for each abbreviation is the only mappable relation to the collections themselves\n",
    "modified_artwork_collection.CollectionID.value_counts()"
   ]
  },
  {
   "cell_type": "code",
   "execution_count": 137,
   "metadata": {},
   "outputs": [
    {
     "data": {
      "text/plain": [
       "(12456, 2)"
      ]
     },
     "execution_count": 137,
     "metadata": {},
     "output_type": "execute_result"
    }
   ],
   "source": [
    "abbreviation_artwork_collection = original_artwork_collection.loc[original_artwork_collection['CollectionID'].map(len) == 1]\n",
    "abbreviation_artwork_collection.shape"
   ]
  },
  {
   "cell_type": "code",
   "execution_count": 138,
   "metadata": {},
   "outputs": [
    {
     "data": {
      "text/plain": [
       "Index(['Abbreviation', 'Count'], dtype='object')"
      ]
     },
     "execution_count": 138,
     "metadata": {},
     "output_type": "execute_result"
    }
   ],
   "source": [
    "abbreviations_count = pd.DataFrame(abbreviation_artwork_collection.CollectionID.value_counts().reset_index().values, columns=['Abbreviation', 'Count'])\n",
    "abbreviations_count.columns"
   ]
  },
  {
   "cell_type": "code",
   "execution_count": 139,
   "metadata": {},
   "outputs": [
    {
     "data": {
      "text/html": [
       "<div>\n",
       "<style scoped>\n",
       "    .dataframe tbody tr th:only-of-type {\n",
       "        vertical-align: middle;\n",
       "    }\n",
       "\n",
       "    .dataframe tbody tr th {\n",
       "        vertical-align: top;\n",
       "    }\n",
       "\n",
       "    .dataframe thead th {\n",
       "        text-align: right;\n",
       "    }\n",
       "</style>\n",
       "<table border=\"1\" class=\"dataframe\">\n",
       "  <thead>\n",
       "    <tr style=\"text-align: right;\">\n",
       "      <th></th>\n",
       "      <th>Abbreviation</th>\n",
       "      <th>Count</th>\n",
       "    </tr>\n",
       "  </thead>\n",
       "  <tbody>\n",
       "    <tr>\n",
       "      <th>0</th>\n",
       "      <td>[EAN]</td>\n",
       "      <td>2909</td>\n",
       "    </tr>\n",
       "    <tr>\n",
       "      <th>1</th>\n",
       "      <td>[JMA]</td>\n",
       "      <td>1331</td>\n",
       "    </tr>\n",
       "    <tr>\n",
       "      <th>2</th>\n",
       "      <td>[JPK]</td>\n",
       "      <td>1322</td>\n",
       "    </tr>\n",
       "    <tr>\n",
       "      <th>3</th>\n",
       "      <td>[REN]</td>\n",
       "      <td>1021</td>\n",
       "    </tr>\n",
       "    <tr>\n",
       "      <th>4</th>\n",
       "      <td>[EGY]</td>\n",
       "      <td>863</td>\n",
       "    </tr>\n",
       "    <tr>\n",
       "      <th>5</th>\n",
       "      <td>[CHN]</td>\n",
       "      <td>800</td>\n",
       "    </tr>\n",
       "    <tr>\n",
       "      <th>6</th>\n",
       "      <td>[MSS]</td>\n",
       "      <td>726</td>\n",
       "    </tr>\n",
       "    <tr>\n",
       "      <th>7</th>\n",
       "      <td>[AME]</td>\n",
       "      <td>528</td>\n",
       "    </tr>\n",
       "    <tr>\n",
       "      <th>8</th>\n",
       "      <td>[BAR]</td>\n",
       "      <td>479</td>\n",
       "    </tr>\n",
       "    <tr>\n",
       "      <th>9</th>\n",
       "      <td>[ROM]</td>\n",
       "      <td>436</td>\n",
       "    </tr>\n",
       "    <tr>\n",
       "      <th>10</th>\n",
       "      <td>[MED]</td>\n",
       "      <td>360</td>\n",
       "    </tr>\n",
       "    <tr>\n",
       "      <th>11</th>\n",
       "      <td>[GRC]</td>\n",
       "      <td>360</td>\n",
       "    </tr>\n",
       "    <tr>\n",
       "      <th>12</th>\n",
       "      <td>[INT]</td>\n",
       "      <td>275</td>\n",
       "    </tr>\n",
       "    <tr>\n",
       "      <th>13</th>\n",
       "      <td>[SEA]</td>\n",
       "      <td>264</td>\n",
       "    </tr>\n",
       "    <tr>\n",
       "      <th>14</th>\n",
       "      <td>[BYZ]</td>\n",
       "      <td>243</td>\n",
       "    </tr>\n",
       "    <tr>\n",
       "      <th>15</th>\n",
       "      <td>[ANE]</td>\n",
       "      <td>237</td>\n",
       "    </tr>\n",
       "    <tr>\n",
       "      <th>16</th>\n",
       "      <td>[ISL]</td>\n",
       "      <td>166</td>\n",
       "    </tr>\n",
       "    <tr>\n",
       "      <th>17</th>\n",
       "      <td>[SAY]</td>\n",
       "      <td>62</td>\n",
       "    </tr>\n",
       "    <tr>\n",
       "      <th>18</th>\n",
       "      <td>[ETH]</td>\n",
       "      <td>46</td>\n",
       "    </tr>\n",
       "    <tr>\n",
       "      <th>19</th>\n",
       "      <td>[ARM]</td>\n",
       "      <td>16</td>\n",
       "    </tr>\n",
       "    <tr>\n",
       "      <th>20</th>\n",
       "      <td>[JWL]</td>\n",
       "      <td>10</td>\n",
       "    </tr>\n",
       "    <tr>\n",
       "      <th>21</th>\n",
       "      <td>[PRE]</td>\n",
       "      <td>1</td>\n",
       "    </tr>\n",
       "    <tr>\n",
       "      <th>22</th>\n",
       "      <td>[MIS]</td>\n",
       "      <td>1</td>\n",
       "    </tr>\n",
       "  </tbody>\n",
       "</table>\n",
       "</div>"
      ],
      "text/plain": [
       "   Abbreviation  Count\n",
       "0         [EAN]   2909\n",
       "1         [JMA]   1331\n",
       "2         [JPK]   1322\n",
       "3         [REN]   1021\n",
       "4         [EGY]    863\n",
       "5         [CHN]    800\n",
       "6         [MSS]    726\n",
       "7         [AME]    528\n",
       "8         [BAR]    479\n",
       "9         [ROM]    436\n",
       "10        [MED]    360\n",
       "11        [GRC]    360\n",
       "12        [INT]    275\n",
       "13        [SEA]    264\n",
       "14        [BYZ]    243\n",
       "15        [ANE]    237\n",
       "16        [ISL]    166\n",
       "17        [SAY]     62\n",
       "18        [ETH]     46\n",
       "19        [ARM]     16\n",
       "20        [JWL]     10\n",
       "21        [PRE]      1\n",
       "22        [MIS]      1"
      ]
     },
     "execution_count": 139,
     "metadata": {},
     "output_type": "execute_result"
    }
   ],
   "source": [
    "abbreviations_count['Count'] = abbreviations_count['Count'].apply(lambda x: int(x))\n",
    "abbreviations_count"
   ]
  },
  {
   "cell_type": "code",
   "execution_count": 140,
   "metadata": {},
   "outputs": [
    {
     "data": {
      "text/html": [
       "<div>\n",
       "<style scoped>\n",
       "    .dataframe tbody tr th:only-of-type {\n",
       "        vertical-align: middle;\n",
       "    }\n",
       "\n",
       "    .dataframe tbody tr th {\n",
       "        vertical-align: top;\n",
       "    }\n",
       "\n",
       "    .dataframe thead th {\n",
       "        text-align: right;\n",
       "    }\n",
       "</style>\n",
       "<table border=\"1\" class=\"dataframe\">\n",
       "  <thead>\n",
       "    <tr style=\"text-align: right;\">\n",
       "      <th></th>\n",
       "      <th>CollectionID</th>\n",
       "      <th>CollectionName</th>\n",
       "      <th>CollDescription</th>\n",
       "      <th>NumObjects</th>\n",
       "    </tr>\n",
       "  </thead>\n",
       "  <tbody>\n",
       "    <tr>\n",
       "      <th>22</th>\n",
       "      <td>24</td>\n",
       "      <td>18th and 19th Centuries                       ...</td>\n",
       "      <td>&lt;p&gt;The Walters&amp;rsquo; collection presents an o...</td>\n",
       "      <td>2909</td>\n",
       "    </tr>\n",
       "    <tr>\n",
       "      <th>8</th>\n",
       "      <td>10</td>\n",
       "      <td>Japanese Military Armor</td>\n",
       "      <td>&lt;p&gt;Most of the Japanese military objects Willi...</td>\n",
       "      <td>1331</td>\n",
       "    </tr>\n",
       "    <tr>\n",
       "      <th>9</th>\n",
       "      <td>11</td>\n",
       "      <td>Japan and Korea                               ...</td>\n",
       "      <td>NaN</td>\n",
       "      <td>1322</td>\n",
       "    </tr>\n",
       "    <tr>\n",
       "      <th>4</th>\n",
       "      <td>5</td>\n",
       "      <td>Renaissance Europe                            ...</td>\n",
       "      <td>&lt;p&gt;The Walters' collection of European Renaiss...</td>\n",
       "      <td>1021</td>\n",
       "    </tr>\n",
       "    <tr>\n",
       "      <th>20</th>\n",
       "      <td>22</td>\n",
       "      <td>Ancient Egypt and Nubia                       ...</td>\n",
       "      <td>&lt;p&gt;Statuary, reliefs, stelae, funerary objects...</td>\n",
       "      <td>863</td>\n",
       "    </tr>\n",
       "    <tr>\n",
       "      <th>14</th>\n",
       "      <td>16</td>\n",
       "      <td>China                                         ...</td>\n",
       "      <td>&lt;p&gt;The Walters Art Museum&amp;rsquo;s collection o...</td>\n",
       "      <td>800</td>\n",
       "    </tr>\n",
       "    <tr>\n",
       "      <th>6</th>\n",
       "      <td>8</td>\n",
       "      <td>Manuscripts and Rare Books</td>\n",
       "      <td>&lt;p&gt;With more than 900 illuminated manuscripts,...</td>\n",
       "      <td>726</td>\n",
       "    </tr>\n",
       "    <tr>\n",
       "      <th>21</th>\n",
       "      <td>23</td>\n",
       "      <td>Ancient Americas                              ...</td>\n",
       "      <td>&lt;p&gt;In 1911, Henry Walters purchased almost 100...</td>\n",
       "      <td>528</td>\n",
       "    </tr>\n",
       "    <tr>\n",
       "      <th>16</th>\n",
       "      <td>18</td>\n",
       "      <td>Baroque Europe                                ...</td>\n",
       "      <td>&lt;p&gt;The Baroque was a highly ornamented style c...</td>\n",
       "      <td>479</td>\n",
       "    </tr>\n",
       "    <tr>\n",
       "      <th>3</th>\n",
       "      <td>4</td>\n",
       "      <td>Roman Empire                                  ...</td>\n",
       "      <td>&lt;p&gt;The Walters&amp;rsquo; collection contains one ...</td>\n",
       "      <td>436</td>\n",
       "    </tr>\n",
       "    <tr>\n",
       "      <th>5</th>\n",
       "      <td>7</td>\n",
       "      <td>Medieval Europe                               ...</td>\n",
       "      <td>&lt;p class=\"p1\"&gt;The period known as the Middle A...</td>\n",
       "      <td>360</td>\n",
       "    </tr>\n",
       "    <tr>\n",
       "      <th>19</th>\n",
       "      <td>21</td>\n",
       "      <td>Ancient Greece                                ...</td>\n",
       "      <td>&lt;p&gt;The Walters' outstanding collection of anci...</td>\n",
       "      <td>360</td>\n",
       "    </tr>\n",
       "    <tr>\n",
       "      <th>12</th>\n",
       "      <td>14</td>\n",
       "      <td>India, Nepal, and Tibet</td>\n",
       "      <td>NaN</td>\n",
       "      <td>275</td>\n",
       "    </tr>\n",
       "    <tr>\n",
       "      <th>1</th>\n",
       "      <td>2</td>\n",
       "      <td>Southeast Asia                                ...</td>\n",
       "      <td>NaN</td>\n",
       "      <td>264</td>\n",
       "    </tr>\n",
       "    <tr>\n",
       "      <th>15</th>\n",
       "      <td>17</td>\n",
       "      <td>Byzantium and Early Russia</td>\n",
       "      <td>&lt;p&gt;The Walters Art Museum holds one of the lea...</td>\n",
       "      <td>243</td>\n",
       "    </tr>\n",
       "    <tr>\n",
       "      <th>18</th>\n",
       "      <td>20</td>\n",
       "      <td>Ancient Near East                             ...</td>\n",
       "      <td>NaN</td>\n",
       "      <td>237</td>\n",
       "    </tr>\n",
       "    <tr>\n",
       "      <th>10</th>\n",
       "      <td>12</td>\n",
       "      <td>Islamic World                                 ...</td>\n",
       "      <td>&lt;p&gt;The term &amp;ldquo;Islamic art&amp;rdquo; encompas...</td>\n",
       "      <td>166</td>\n",
       "    </tr>\n",
       "    <tr>\n",
       "      <th>2</th>\n",
       "      <td>3</td>\n",
       "      <td>South Arabia</td>\n",
       "      <td>NaN</td>\n",
       "      <td>62</td>\n",
       "    </tr>\n",
       "    <tr>\n",
       "      <th>13</th>\n",
       "      <td>15</td>\n",
       "      <td>Ethiopia</td>\n",
       "      <td>&lt;p&gt;The Walters' collection of Ethiopian icons,...</td>\n",
       "      <td>46</td>\n",
       "    </tr>\n",
       "    <tr>\n",
       "      <th>17</th>\n",
       "      <td>19</td>\n",
       "      <td>Arms and Armor                                ...</td>\n",
       "      <td>&lt;p&gt;The Walters' collection of armor and weapon...</td>\n",
       "      <td>16</td>\n",
       "    </tr>\n",
       "    <tr>\n",
       "      <th>7</th>\n",
       "      <td>9</td>\n",
       "      <td>Jewelry</td>\n",
       "      <td>&lt;p&gt;The array of exquisite jewelry at the Walte...</td>\n",
       "      <td>10</td>\n",
       "    </tr>\n",
       "    <tr>\n",
       "      <th>11</th>\n",
       "      <td>13</td>\n",
       "      <td>Islamic Manuscripts</td>\n",
       "      <td>&lt;p&gt;The Walters&amp;rsquo; collection of Islamic Ma...</td>\n",
       "      <td>1</td>\n",
       "    </tr>\n",
       "    <tr>\n",
       "      <th>0</th>\n",
       "      <td>1</td>\n",
       "      <td>Textiles and Furniture                        ...</td>\n",
       "      <td>NaN</td>\n",
       "      <td>0</td>\n",
       "    </tr>\n",
       "  </tbody>\n",
       "</table>\n",
       "</div>"
      ],
      "text/plain": [
       "    CollectionID                                     CollectionName  \\\n",
       "22            24  18th and 19th Centuries                       ...   \n",
       "8             10                            Japanese Military Armor   \n",
       "9             11  Japan and Korea                               ...   \n",
       "4              5  Renaissance Europe                            ...   \n",
       "20            22  Ancient Egypt and Nubia                       ...   \n",
       "14            16  China                                         ...   \n",
       "6              8                         Manuscripts and Rare Books   \n",
       "21            23  Ancient Americas                              ...   \n",
       "16            18  Baroque Europe                                ...   \n",
       "3              4  Roman Empire                                  ...   \n",
       "5              7  Medieval Europe                               ...   \n",
       "19            21  Ancient Greece                                ...   \n",
       "12            14                            India, Nepal, and Tibet   \n",
       "1              2  Southeast Asia                                ...   \n",
       "15            17                         Byzantium and Early Russia   \n",
       "18            20  Ancient Near East                             ...   \n",
       "10            12  Islamic World                                 ...   \n",
       "2              3                                       South Arabia   \n",
       "13            15                                           Ethiopia   \n",
       "17            19  Arms and Armor                                ...   \n",
       "7              9                                            Jewelry   \n",
       "11            13                                Islamic Manuscripts   \n",
       "0              1  Textiles and Furniture                        ...   \n",
       "\n",
       "                                      CollDescription  NumObjects  \n",
       "22  <p>The Walters&rsquo; collection presents an o...        2909  \n",
       "8   <p>Most of the Japanese military objects Willi...        1331  \n",
       "9                                                 NaN        1322  \n",
       "4   <p>The Walters' collection of European Renaiss...        1021  \n",
       "20  <p>Statuary, reliefs, stelae, funerary objects...         863  \n",
       "14  <p>The Walters Art Museum&rsquo;s collection o...         800  \n",
       "6   <p>With more than 900 illuminated manuscripts,...         726  \n",
       "21  <p>In 1911, Henry Walters purchased almost 100...         528  \n",
       "16  <p>The Baroque was a highly ornamented style c...         479  \n",
       "3   <p>The Walters&rsquo; collection contains one ...         436  \n",
       "5   <p class=\"p1\">The period known as the Middle A...         360  \n",
       "19  <p>The Walters' outstanding collection of anci...         360  \n",
       "12                                                NaN         275  \n",
       "1                                                 NaN         264  \n",
       "15  <p>The Walters Art Museum holds one of the lea...         243  \n",
       "18                                                NaN         237  \n",
       "10  <p>The term &ldquo;Islamic art&rdquo; encompas...         166  \n",
       "2                                                 NaN          62  \n",
       "13  <p>The Walters' collection of Ethiopian icons,...          46  \n",
       "17  <p>The Walters' collection of armor and weapon...          16  \n",
       "7   <p>The array of exquisite jewelry at the Walte...          10  \n",
       "11  <p>The Walters&rsquo; collection of Islamic Ma...           1  \n",
       "0                                                 NaN           0  "
      ]
     },
     "execution_count": 140,
     "metadata": {},
     "output_type": "execute_result"
    }
   ],
   "source": [
    "museum_collection.sort_values(by=['NumObjects'], ascending=False)"
   ]
  },
  {
   "cell_type": "code",
   "execution_count": 141,
   "metadata": {},
   "outputs": [],
   "source": [
    "abbreviations = []\n",
    "for index, row in abbreviations_count.iterrows():\n",
    "    abbreviation_id = museum_collection.loc[museum_collection['NumObjects'] == row['Count']].CollectionID.values[0]\n",
    "    abbreviations.append(abbreviation_id)"
   ]
  },
  {
   "cell_type": "code",
   "execution_count": 142,
   "metadata": {},
   "outputs": [],
   "source": [
    "abbreviations_count['CollectionID'] = abbreviations"
   ]
  },
  {
   "cell_type": "code",
   "execution_count": 143,
   "metadata": {},
   "outputs": [
    {
     "data": {
      "text/html": [
       "<div>\n",
       "<style scoped>\n",
       "    .dataframe tbody tr th:only-of-type {\n",
       "        vertical-align: middle;\n",
       "    }\n",
       "\n",
       "    .dataframe tbody tr th {\n",
       "        vertical-align: top;\n",
       "    }\n",
       "\n",
       "    .dataframe thead th {\n",
       "        text-align: right;\n",
       "    }\n",
       "</style>\n",
       "<table border=\"1\" class=\"dataframe\">\n",
       "  <thead>\n",
       "    <tr style=\"text-align: right;\">\n",
       "      <th></th>\n",
       "      <th>Abbreviation</th>\n",
       "      <th>Count</th>\n",
       "      <th>CollectionID</th>\n",
       "    </tr>\n",
       "  </thead>\n",
       "  <tbody>\n",
       "    <tr>\n",
       "      <th>0</th>\n",
       "      <td>[EAN]</td>\n",
       "      <td>2909</td>\n",
       "      <td>24</td>\n",
       "    </tr>\n",
       "    <tr>\n",
       "      <th>1</th>\n",
       "      <td>[JMA]</td>\n",
       "      <td>1331</td>\n",
       "      <td>10</td>\n",
       "    </tr>\n",
       "    <tr>\n",
       "      <th>2</th>\n",
       "      <td>[JPK]</td>\n",
       "      <td>1322</td>\n",
       "      <td>11</td>\n",
       "    </tr>\n",
       "    <tr>\n",
       "      <th>3</th>\n",
       "      <td>[REN]</td>\n",
       "      <td>1021</td>\n",
       "      <td>5</td>\n",
       "    </tr>\n",
       "    <tr>\n",
       "      <th>4</th>\n",
       "      <td>[EGY]</td>\n",
       "      <td>863</td>\n",
       "      <td>22</td>\n",
       "    </tr>\n",
       "    <tr>\n",
       "      <th>5</th>\n",
       "      <td>[CHN]</td>\n",
       "      <td>800</td>\n",
       "      <td>16</td>\n",
       "    </tr>\n",
       "    <tr>\n",
       "      <th>6</th>\n",
       "      <td>[MSS]</td>\n",
       "      <td>726</td>\n",
       "      <td>8</td>\n",
       "    </tr>\n",
       "    <tr>\n",
       "      <th>7</th>\n",
       "      <td>[AME]</td>\n",
       "      <td>528</td>\n",
       "      <td>23</td>\n",
       "    </tr>\n",
       "    <tr>\n",
       "      <th>8</th>\n",
       "      <td>[BAR]</td>\n",
       "      <td>479</td>\n",
       "      <td>18</td>\n",
       "    </tr>\n",
       "    <tr>\n",
       "      <th>9</th>\n",
       "      <td>[ROM]</td>\n",
       "      <td>436</td>\n",
       "      <td>4</td>\n",
       "    </tr>\n",
       "    <tr>\n",
       "      <th>10</th>\n",
       "      <td>[MED]</td>\n",
       "      <td>360</td>\n",
       "      <td>7</td>\n",
       "    </tr>\n",
       "    <tr>\n",
       "      <th>11</th>\n",
       "      <td>[GRC]</td>\n",
       "      <td>360</td>\n",
       "      <td>7</td>\n",
       "    </tr>\n",
       "    <tr>\n",
       "      <th>12</th>\n",
       "      <td>[INT]</td>\n",
       "      <td>275</td>\n",
       "      <td>14</td>\n",
       "    </tr>\n",
       "    <tr>\n",
       "      <th>13</th>\n",
       "      <td>[SEA]</td>\n",
       "      <td>264</td>\n",
       "      <td>2</td>\n",
       "    </tr>\n",
       "    <tr>\n",
       "      <th>14</th>\n",
       "      <td>[BYZ]</td>\n",
       "      <td>243</td>\n",
       "      <td>17</td>\n",
       "    </tr>\n",
       "    <tr>\n",
       "      <th>15</th>\n",
       "      <td>[ANE]</td>\n",
       "      <td>237</td>\n",
       "      <td>20</td>\n",
       "    </tr>\n",
       "    <tr>\n",
       "      <th>16</th>\n",
       "      <td>[ISL]</td>\n",
       "      <td>166</td>\n",
       "      <td>12</td>\n",
       "    </tr>\n",
       "    <tr>\n",
       "      <th>17</th>\n",
       "      <td>[SAY]</td>\n",
       "      <td>62</td>\n",
       "      <td>3</td>\n",
       "    </tr>\n",
       "    <tr>\n",
       "      <th>18</th>\n",
       "      <td>[ETH]</td>\n",
       "      <td>46</td>\n",
       "      <td>15</td>\n",
       "    </tr>\n",
       "    <tr>\n",
       "      <th>19</th>\n",
       "      <td>[ARM]</td>\n",
       "      <td>16</td>\n",
       "      <td>19</td>\n",
       "    </tr>\n",
       "    <tr>\n",
       "      <th>20</th>\n",
       "      <td>[JWL]</td>\n",
       "      <td>10</td>\n",
       "      <td>9</td>\n",
       "    </tr>\n",
       "    <tr>\n",
       "      <th>21</th>\n",
       "      <td>[PRE]</td>\n",
       "      <td>1</td>\n",
       "      <td>13</td>\n",
       "    </tr>\n",
       "    <tr>\n",
       "      <th>22</th>\n",
       "      <td>[MIS]</td>\n",
       "      <td>1</td>\n",
       "      <td>13</td>\n",
       "    </tr>\n",
       "  </tbody>\n",
       "</table>\n",
       "</div>"
      ],
      "text/plain": [
       "   Abbreviation  Count  CollectionID\n",
       "0         [EAN]   2909            24\n",
       "1         [JMA]   1331            10\n",
       "2         [JPK]   1322            11\n",
       "3         [REN]   1021             5\n",
       "4         [EGY]    863            22\n",
       "5         [CHN]    800            16\n",
       "6         [MSS]    726             8\n",
       "7         [AME]    528            23\n",
       "8         [BAR]    479            18\n",
       "9         [ROM]    436             4\n",
       "10        [MED]    360             7\n",
       "11        [GRC]    360             7\n",
       "12        [INT]    275            14\n",
       "13        [SEA]    264             2\n",
       "14        [BYZ]    243            17\n",
       "15        [ANE]    237            20\n",
       "16        [ISL]    166            12\n",
       "17        [SAY]     62             3\n",
       "18        [ETH]     46            15\n",
       "19        [ARM]     16            19\n",
       "20        [JWL]     10             9\n",
       "21        [PRE]      1            13\n",
       "22        [MIS]      1            13"
      ]
     },
     "execution_count": 143,
     "metadata": {},
     "output_type": "execute_result"
    }
   ],
   "source": [
    "# The abbreviations MED & GRC as well as PRE & MIS has the same number of objects and could therefore not be distinguished\n",
    "abbreviations_count"
   ]
  },
  {
   "cell_type": "code",
   "execution_count": 144,
   "metadata": {},
   "outputs": [
    {
     "data": {
      "text/plain": [
       "MSS    4806\n",
       "EAN    3112\n",
       "ISL    2589\n",
       "MIS    2347\n",
       "REN    1665\n",
       "MED    1632\n",
       "JPK    1355\n",
       "JMA    1331\n",
       "EGY    1070\n",
       "CHN     820\n",
       "ROM     813\n",
       "JWL     798\n",
       "GRC     579\n",
       "BAR     575\n",
       "BYZ     551\n",
       "AME     534\n",
       "INT     459\n",
       "ANE     281\n",
       "SEA     269\n",
       "ETH     129\n",
       "ARM     116\n",
       "SAY      88\n",
       "TAF      67\n",
       "NUM      30\n",
       "PRE      12\n",
       "JEL       1\n",
       "IIS       1\n",
       "IAL       1\n",
       "ISM       1\n",
       "Name: CollectionID, dtype: int64"
      ]
     },
     "execution_count": 144,
     "metadata": {},
     "output_type": "execute_result"
    }
   ],
   "source": [
    "# Each value should get an own row for normalizing the table of the many to many relation\n",
    "museum_artwork_collection = modified_artwork_collection.explode('CollectionID')\n",
    "museum_artwork_collection.CollectionID.value_counts()"
   ]
  },
  {
   "cell_type": "code",
   "execution_count": 145,
   "metadata": {},
   "outputs": [
    {
     "data": {
      "text/html": [
       "<div>\n",
       "<style scoped>\n",
       "    .dataframe tbody tr th:only-of-type {\n",
       "        vertical-align: middle;\n",
       "    }\n",
       "\n",
       "    .dataframe tbody tr th {\n",
       "        vertical-align: top;\n",
       "    }\n",
       "\n",
       "    .dataframe thead th {\n",
       "        text-align: right;\n",
       "    }\n",
       "</style>\n",
       "<table border=\"1\" class=\"dataframe\">\n",
       "  <thead>\n",
       "    <tr style=\"text-align: right;\">\n",
       "      <th></th>\n",
       "      <th>CollectionID</th>\n",
       "      <th>Abbreviation</th>\n",
       "    </tr>\n",
       "  </thead>\n",
       "  <tbody>\n",
       "    <tr>\n",
       "      <th>0</th>\n",
       "      <td>24</td>\n",
       "      <td>EAN</td>\n",
       "    </tr>\n",
       "    <tr>\n",
       "      <th>1</th>\n",
       "      <td>10</td>\n",
       "      <td>JMA</td>\n",
       "    </tr>\n",
       "    <tr>\n",
       "      <th>2</th>\n",
       "      <td>11</td>\n",
       "      <td>JPK</td>\n",
       "    </tr>\n",
       "    <tr>\n",
       "      <th>3</th>\n",
       "      <td>5</td>\n",
       "      <td>REN</td>\n",
       "    </tr>\n",
       "    <tr>\n",
       "      <th>4</th>\n",
       "      <td>22</td>\n",
       "      <td>EGY</td>\n",
       "    </tr>\n",
       "    <tr>\n",
       "      <th>5</th>\n",
       "      <td>16</td>\n",
       "      <td>CHN</td>\n",
       "    </tr>\n",
       "    <tr>\n",
       "      <th>6</th>\n",
       "      <td>8</td>\n",
       "      <td>MSS</td>\n",
       "    </tr>\n",
       "    <tr>\n",
       "      <th>7</th>\n",
       "      <td>23</td>\n",
       "      <td>AME</td>\n",
       "    </tr>\n",
       "    <tr>\n",
       "      <th>8</th>\n",
       "      <td>18</td>\n",
       "      <td>BAR</td>\n",
       "    </tr>\n",
       "    <tr>\n",
       "      <th>9</th>\n",
       "      <td>4</td>\n",
       "      <td>ROM</td>\n",
       "    </tr>\n",
       "    <tr>\n",
       "      <th>10</th>\n",
       "      <td>7</td>\n",
       "      <td>MED</td>\n",
       "    </tr>\n",
       "    <tr>\n",
       "      <th>11</th>\n",
       "      <td>7</td>\n",
       "      <td>GRC</td>\n",
       "    </tr>\n",
       "    <tr>\n",
       "      <th>12</th>\n",
       "      <td>14</td>\n",
       "      <td>INT</td>\n",
       "    </tr>\n",
       "    <tr>\n",
       "      <th>13</th>\n",
       "      <td>2</td>\n",
       "      <td>SEA</td>\n",
       "    </tr>\n",
       "    <tr>\n",
       "      <th>14</th>\n",
       "      <td>17</td>\n",
       "      <td>BYZ</td>\n",
       "    </tr>\n",
       "    <tr>\n",
       "      <th>15</th>\n",
       "      <td>20</td>\n",
       "      <td>ANE</td>\n",
       "    </tr>\n",
       "    <tr>\n",
       "      <th>16</th>\n",
       "      <td>12</td>\n",
       "      <td>ISL</td>\n",
       "    </tr>\n",
       "    <tr>\n",
       "      <th>17</th>\n",
       "      <td>3</td>\n",
       "      <td>SAY</td>\n",
       "    </tr>\n",
       "    <tr>\n",
       "      <th>18</th>\n",
       "      <td>15</td>\n",
       "      <td>ETH</td>\n",
       "    </tr>\n",
       "    <tr>\n",
       "      <th>19</th>\n",
       "      <td>19</td>\n",
       "      <td>ARM</td>\n",
       "    </tr>\n",
       "    <tr>\n",
       "      <th>20</th>\n",
       "      <td>9</td>\n",
       "      <td>JWL</td>\n",
       "    </tr>\n",
       "    <tr>\n",
       "      <th>21</th>\n",
       "      <td>13</td>\n",
       "      <td>PRE</td>\n",
       "    </tr>\n",
       "    <tr>\n",
       "      <th>22</th>\n",
       "      <td>13</td>\n",
       "      <td>MIS</td>\n",
       "    </tr>\n",
       "  </tbody>\n",
       "</table>\n",
       "</div>"
      ],
      "text/plain": [
       "    CollectionID Abbreviation\n",
       "0             24          EAN\n",
       "1             10          JMA\n",
       "2             11          JPK\n",
       "3              5          REN\n",
       "4             22          EGY\n",
       "5             16          CHN\n",
       "6              8          MSS\n",
       "7             23          AME\n",
       "8             18          BAR\n",
       "9              4          ROM\n",
       "10             7          MED\n",
       "11             7          GRC\n",
       "12            14          INT\n",
       "13             2          SEA\n",
       "14            17          BYZ\n",
       "15            20          ANE\n",
       "16            12          ISL\n",
       "17             3          SAY\n",
       "18            15          ETH\n",
       "19            19          ARM\n",
       "20             9          JWL\n",
       "21            13          PRE\n",
       "22            13          MIS"
      ]
     },
     "execution_count": 145,
     "metadata": {},
     "output_type": "execute_result"
    }
   ],
   "source": [
    "abbreviations_collection = abbreviations_count[['CollectionID', 'Abbreviation']].explode('Abbreviation')\n",
    "abbreviations_collection"
   ]
  },
  {
   "cell_type": "code",
   "execution_count": 146,
   "metadata": {},
   "outputs": [],
   "source": [
    "# Replace the abbreviations by ther id\n",
    "museum_artwork_collection['CollectionID'] = museum_artwork_collection['CollectionID'].replace(abbreviations_collection.set_index('Abbreviation')['CollectionID'])"
   ]
  },
  {
   "cell_type": "markdown",
   "metadata": {},
   "source": [
    "### Change data types"
   ]
  },
  {
   "cell_type": "code",
   "execution_count": 147,
   "metadata": {},
   "outputs": [
    {
     "data": {
      "text/plain": [
       " (Japanese)                          137\n",
       " (Japanese, Japanese)                 67\n",
       " (French)                             33\n",
       " (Japanese, 19th century)             23\n",
       " (Italian)                            23\n",
       "                                    ... \n",
       " (French, active 1497-1521)            1\n",
       " (French, 1819-1916)                   1\n",
       " (American, 1823-1894)                 1\n",
       " (Japanese, active ca. 1600-1750)      1\n",
       " (Yemeni, active ca. 1757)             1\n",
       "Name: date, Length: 2487, dtype: int64"
      ]
     },
     "execution_count": 147,
     "metadata": {},
     "output_type": "execute_result"
    }
   ],
   "source": [
    "# Separate the origin of the creator (the date feature)\n",
    "museum_creator.date.value_counts() \n",
    "# the date don't seem to be consistent and the creators active period may be redundant to the dates of the artworks\n",
    "# we can use the nationality"
   ]
  },
  {
   "cell_type": "code",
   "execution_count": 148,
   "metadata": {},
   "outputs": [
    {
     "data": {
      "text/html": [
       "<div>\n",
       "<style scoped>\n",
       "    .dataframe tbody tr th:only-of-type {\n",
       "        vertical-align: middle;\n",
       "    }\n",
       "\n",
       "    .dataframe tbody tr th {\n",
       "        vertical-align: top;\n",
       "    }\n",
       "\n",
       "    .dataframe thead th {\n",
       "        text-align: right;\n",
       "    }\n",
       "</style>\n",
       "<table border=\"1\" class=\"dataframe\">\n",
       "  <thead>\n",
       "    <tr style=\"text-align: right;\">\n",
       "      <th></th>\n",
       "      <th>id</th>\n",
       "      <th>name</th>\n",
       "      <th>url</th>\n",
       "      <th>gender</th>\n",
       "      <th>nationality</th>\n",
       "    </tr>\n",
       "  </thead>\n",
       "  <tbody>\n",
       "    <tr>\n",
       "      <th>0</th>\n",
       "      <td>6741</td>\n",
       "      <td>Riza 'Abbasi</td>\n",
       "      <td>https://art.thewalters.org/browse/creator/riza...</td>\n",
       "      <td>NaN</td>\n",
       "      <td>Persian</td>\n",
       "    </tr>\n",
       "    <tr>\n",
       "      <th>1</th>\n",
       "      <td>4237</td>\n",
       "      <td>Shaykh 'Abbasi</td>\n",
       "      <td>https://art.thewalters.org/browse/creator/shay...</td>\n",
       "      <td>NaN</td>\n",
       "      <td>Persian</td>\n",
       "    </tr>\n",
       "    <tr>\n",
       "      <th>2</th>\n",
       "      <td>19270</td>\n",
       "      <td>Abu Mansur Muhammad ibn 'Abd al-Razzaq</td>\n",
       "      <td>https://art.thewalters.org/browse/creator/abu-...</td>\n",
       "      <td>NaN</td>\n",
       "      <td></td>\n",
       "    </tr>\n",
       "    <tr>\n",
       "      <th>3</th>\n",
       "      <td>19395</td>\n",
       "      <td>'Ali</td>\n",
       "      <td>https://art.thewalters.org/browse/creator/ali</td>\n",
       "      <td>NaN</td>\n",
       "      <td></td>\n",
       "    </tr>\n",
       "    <tr>\n",
       "      <th>4</th>\n",
       "      <td>16856</td>\n",
       "      <td>Sultan 'Ali</td>\n",
       "      <td>https://art.thewalters.org/browse/creator/sult...</td>\n",
       "      <td>NaN</td>\n",
       "      <td></td>\n",
       "    </tr>\n",
       "  </tbody>\n",
       "</table>\n",
       "</div>"
      ],
      "text/plain": [
       "      id                                    name  \\\n",
       "0   6741                            Riza 'Abbasi   \n",
       "1   4237                          Shaykh 'Abbasi   \n",
       "2  19270  Abu Mansur Muhammad ibn 'Abd al-Razzaq   \n",
       "3  19395                                    'Ali   \n",
       "4  16856                             Sultan 'Ali   \n",
       "\n",
       "                                                 url gender nationality  \n",
       "0  https://art.thewalters.org/browse/creator/riza...    NaN     Persian  \n",
       "1  https://art.thewalters.org/browse/creator/shay...    NaN     Persian  \n",
       "2  https://art.thewalters.org/browse/creator/abu-...    NaN              \n",
       "3      https://art.thewalters.org/browse/creator/ali    NaN              \n",
       "4  https://art.thewalters.org/browse/creator/sult...    NaN              "
      ]
     },
     "execution_count": 148,
     "metadata": {},
     "output_type": "execute_result"
    }
   ],
   "source": [
    "# Make a table containing the data with correct names and data types\n",
    "creators = pd.DataFrame({'id': museum_creator.id, 'name': museum_creator.name.astype(str), 'url': museum_creator.CreatorURL.astype(str), 'gender': museum_creator['gender'].astype('category'), 'nationality': museum_creator.fillna(\"\").loc[:, 'date'].apply(lambda x: str(x).replace('(', '').replace(')', '').split(',')).str[0].astype('category')})\n",
    "creators.head()"
   ]
  },
  {
   "cell_type": "code",
   "execution_count": 149,
   "metadata": {},
   "outputs": [
    {
     "data": {
      "text/plain": [
       "Index(['ObjectID', 'ObjectName', 'DateBeginYear', 'DateEndYear', 'Title',\n",
       "       'Medium', 'ResourceURL', 'Description', 'Images'],\n",
       "      dtype='object')"
      ]
     },
     "execution_count": 149,
     "metadata": {},
     "output_type": "execute_result"
    }
   ],
   "source": [
    "museum_artwork.columns"
   ]
  },
  {
   "cell_type": "code",
   "execution_count": 150,
   "metadata": {},
   "outputs": [
    {
     "data": {
      "text/plain": [
       "id                    int64\n",
       "type               category\n",
       "date_begin_year       int64\n",
       "date_end_year         int64\n",
       "title              category\n",
       "medium             category\n",
       "url                  object\n",
       "description          object\n",
       "dtype: object"
      ]
     },
     "execution_count": 150,
     "metadata": {},
     "output_type": "execute_result"
    }
   ],
   "source": [
    "artworks = pd.DataFrame({'id': museum_artwork.ObjectID, 'type': museum_artwork.ObjectName.astype('category'), 'date_begin_year': museum_artwork.DateBeginYear.astype('int64'), 'date_end_year': museum_artwork.DateEndYear.astype('int64'), 'title': museum_artwork.Title.astype('category'), 'medium': museum_artwork.Medium.astype('category'), 'url': museum_artwork.ResourceURL.astype(str), 'description': museum_artwork.Description.astype(str)})\n",
    "artworks.dtypes"
   ]
  },
  {
   "cell_type": "code",
   "execution_count": 151,
   "metadata": {},
   "outputs": [
    {
     "data": {
      "text/html": [
       "<div>\n",
       "<style scoped>\n",
       "    .dataframe tbody tr th:only-of-type {\n",
       "        vertical-align: middle;\n",
       "    }\n",
       "\n",
       "    .dataframe tbody tr th {\n",
       "        vertical-align: top;\n",
       "    }\n",
       "\n",
       "    .dataframe thead th {\n",
       "        text-align: right;\n",
       "    }\n",
       "</style>\n",
       "<table border=\"1\" class=\"dataframe\">\n",
       "  <thead>\n",
       "    <tr style=\"text-align: right;\">\n",
       "      <th></th>\n",
       "      <th>id</th>\n",
       "      <th>type</th>\n",
       "      <th>date_begin_year</th>\n",
       "      <th>date_end_year</th>\n",
       "      <th>title</th>\n",
       "      <th>medium</th>\n",
       "      <th>url</th>\n",
       "      <th>description</th>\n",
       "    </tr>\n",
       "  </thead>\n",
       "  <tbody>\n",
       "    <tr>\n",
       "      <th>0</th>\n",
       "      <td>7</td>\n",
       "      <td>statuettes (statues)</td>\n",
       "      <td>-425</td>\n",
       "      <td>-400</td>\n",
       "      <td>Zeus</td>\n",
       "      <td>bronze</td>\n",
       "      <td>https://art.thewalters.org/detail/7</td>\n",
       "      <td>&lt;p&gt;The god is nude except for a mantle draped ...</td>\n",
       "    </tr>\n",
       "    <tr>\n",
       "      <th>1</th>\n",
       "      <td>11</td>\n",
       "      <td>finger rings; beads; plaques (flat objects)</td>\n",
       "      <td>-1479</td>\n",
       "      <td>-1185</td>\n",
       "      <td>Unfinished Ring with Flat Bead</td>\n",
       "      <td>carved yellow jasper and gold</td>\n",
       "      <td>https://art.thewalters.org/detail/11</td>\n",
       "      <td>&lt;p&gt;One side of the bead bears a detailed carvi...</td>\n",
       "    </tr>\n",
       "    <tr>\n",
       "      <th>2</th>\n",
       "      <td>14</td>\n",
       "      <td>beads (pierced objects); spacers</td>\n",
       "      <td>-1388</td>\n",
       "      <td>-1350</td>\n",
       "      <td>Spacer with Cartouche of Amenophis III</td>\n",
       "      <td>Egyptian faience with blue and white glaze</td>\n",
       "      <td>https://art.thewalters.org/detail/14</td>\n",
       "      <td>&lt;p&gt;This piece is a faience spacer bead with th...</td>\n",
       "    </tr>\n",
       "    <tr>\n",
       "      <th>3</th>\n",
       "      <td>22</td>\n",
       "      <td>plates</td>\n",
       "      <td>1513</td>\n",
       "      <td>1537</td>\n",
       "      <td>Dish with Foliage Design</td>\n",
       "      <td>earthenware with tin glaze (maiolica) and lust...</td>\n",
       "      <td>https://art.thewalters.org/detail/22</td>\n",
       "      <td>&lt;p&gt;The center of this dish shows a serrated re...</td>\n",
       "    </tr>\n",
       "    <tr>\n",
       "      <th>4</th>\n",
       "      <td>35</td>\n",
       "      <td>miniatures (paintings)</td>\n",
       "      <td>1775</td>\n",
       "      <td>1800</td>\n",
       "      <td>Krishna Steals the Gopis' Clothing</td>\n",
       "      <td>opaque watercolor and gold paint on paper</td>\n",
       "      <td>https://art.thewalters.org/detail/35</td>\n",
       "      <td>&lt;p&gt;In a popular episode from Krishna’s life st...</td>\n",
       "    </tr>\n",
       "  </tbody>\n",
       "</table>\n",
       "</div>"
      ],
      "text/plain": [
       "   id                                         type  date_begin_year  \\\n",
       "0   7                         statuettes (statues)             -425   \n",
       "1  11  finger rings; beads; plaques (flat objects)            -1479   \n",
       "2  14             beads (pierced objects); spacers            -1388   \n",
       "3  22                                       plates             1513   \n",
       "4  35                       miniatures (paintings)             1775   \n",
       "\n",
       "   date_end_year                                   title  \\\n",
       "0           -400                                    Zeus   \n",
       "1          -1185          Unfinished Ring with Flat Bead   \n",
       "2          -1350  Spacer with Cartouche of Amenophis III   \n",
       "3           1537                Dish with Foliage Design   \n",
       "4           1800      Krishna Steals the Gopis' Clothing   \n",
       "\n",
       "                                              medium  \\\n",
       "0                                             bronze   \n",
       "1                      carved yellow jasper and gold   \n",
       "2         Egyptian faience with blue and white glaze   \n",
       "3  earthenware with tin glaze (maiolica) and lust...   \n",
       "4          opaque watercolor and gold paint on paper   \n",
       "\n",
       "                                    url  \\\n",
       "0   https://art.thewalters.org/detail/7   \n",
       "1  https://art.thewalters.org/detail/11   \n",
       "2  https://art.thewalters.org/detail/14   \n",
       "3  https://art.thewalters.org/detail/22   \n",
       "4  https://art.thewalters.org/detail/35   \n",
       "\n",
       "                                         description  \n",
       "0  <p>The god is nude except for a mantle draped ...  \n",
       "1  <p>One side of the bead bears a detailed carvi...  \n",
       "2  <p>This piece is a faience spacer bead with th...  \n",
       "3  <p>The center of this dish shows a serrated re...  \n",
       "4  <p>In a popular episode from Krishna’s life st...  "
      ]
     },
     "execution_count": 151,
     "metadata": {},
     "output_type": "execute_result"
    }
   ],
   "source": [
    "artworks.head()"
   ]
  },
  {
   "cell_type": "code",
   "execution_count": 152,
   "metadata": {},
   "outputs": [
    {
     "data": {
      "text/plain": [
       "Index(['CollectionID', 'CollectionName', 'CollDescription', 'NumObjects'], dtype='object')"
      ]
     },
     "execution_count": 152,
     "metadata": {},
     "output_type": "execute_result"
    }
   ],
   "source": [
    "museum_collection.columns"
   ]
  },
  {
   "cell_type": "code",
   "execution_count": 153,
   "metadata": {},
   "outputs": [
    {
     "data": {
      "text/plain": [
       "id                int64\n",
       "name           category\n",
       "description      object\n",
       "dtype: object"
      ]
     },
     "execution_count": 153,
     "metadata": {},
     "output_type": "execute_result"
    }
   ],
   "source": [
    "collections = pd.DataFrame({'id': museum_collection.CollectionID, 'name': museum_collection.CollectionName.astype('category'), 'description': museum_collection.CollDescription.fillna(\"\").astype(str)})\n",
    "collections.dtypes"
   ]
  },
  {
   "cell_type": "code",
   "execution_count": 154,
   "metadata": {},
   "outputs": [
    {
     "data": {
      "text/html": [
       "<div>\n",
       "<style scoped>\n",
       "    .dataframe tbody tr th:only-of-type {\n",
       "        vertical-align: middle;\n",
       "    }\n",
       "\n",
       "    .dataframe tbody tr th {\n",
       "        vertical-align: top;\n",
       "    }\n",
       "\n",
       "    .dataframe thead th {\n",
       "        text-align: right;\n",
       "    }\n",
       "</style>\n",
       "<table border=\"1\" class=\"dataframe\">\n",
       "  <thead>\n",
       "    <tr style=\"text-align: right;\">\n",
       "      <th></th>\n",
       "      <th>id</th>\n",
       "      <th>name</th>\n",
       "      <th>description</th>\n",
       "    </tr>\n",
       "  </thead>\n",
       "  <tbody>\n",
       "    <tr>\n",
       "      <th>0</th>\n",
       "      <td>1</td>\n",
       "      <td>Textiles and Furniture                        ...</td>\n",
       "      <td></td>\n",
       "    </tr>\n",
       "    <tr>\n",
       "      <th>1</th>\n",
       "      <td>2</td>\n",
       "      <td>Southeast Asia                                ...</td>\n",
       "      <td></td>\n",
       "    </tr>\n",
       "    <tr>\n",
       "      <th>2</th>\n",
       "      <td>3</td>\n",
       "      <td>South Arabia</td>\n",
       "      <td></td>\n",
       "    </tr>\n",
       "    <tr>\n",
       "      <th>3</th>\n",
       "      <td>4</td>\n",
       "      <td>Roman Empire                                  ...</td>\n",
       "      <td>&lt;p&gt;The Walters&amp;rsquo; collection contains one ...</td>\n",
       "    </tr>\n",
       "    <tr>\n",
       "      <th>4</th>\n",
       "      <td>5</td>\n",
       "      <td>Renaissance Europe                            ...</td>\n",
       "      <td>&lt;p&gt;The Walters' collection of European Renaiss...</td>\n",
       "    </tr>\n",
       "  </tbody>\n",
       "</table>\n",
       "</div>"
      ],
      "text/plain": [
       "   id                                               name  \\\n",
       "0   1  Textiles and Furniture                        ...   \n",
       "1   2  Southeast Asia                                ...   \n",
       "2   3                                       South Arabia   \n",
       "3   4  Roman Empire                                  ...   \n",
       "4   5  Renaissance Europe                            ...   \n",
       "\n",
       "                                         description  \n",
       "0                                                     \n",
       "1                                                     \n",
       "2                                                     \n",
       "3  <p>The Walters&rsquo; collection contains one ...  \n",
       "4  <p>The Walters' collection of European Renaiss...  "
      ]
     },
     "execution_count": 154,
     "metadata": {},
     "output_type": "execute_result"
    }
   ],
   "source": [
    "collections.head()"
   ]
  },
  {
   "cell_type": "code",
   "execution_count": 155,
   "metadata": {},
   "outputs": [
    {
     "data": {
      "text/plain": [
       "Index(['ExhibitionID', 'ExhTitle', 'ExhibBeginYear', 'ExhibEndYear'], dtype='object')"
      ]
     },
     "execution_count": 155,
     "metadata": {},
     "output_type": "execute_result"
    }
   ],
   "source": [
    "museum_exhibition.columns"
   ]
  },
  {
   "cell_type": "code",
   "execution_count": 156,
   "metadata": {},
   "outputs": [
    {
     "data": {
      "text/plain": [
       "id             int64\n",
       "name          object\n",
       "begin_year     int64\n",
       "dtype: object"
      ]
     },
     "execution_count": 156,
     "metadata": {},
     "output_type": "execute_result"
    }
   ],
   "source": [
    "exhibitions = pd.DataFrame({'id': museum_exhibition.ExhibitionID, 'name': museum_exhibition.ExhTitle, 'begin_year': museum_exhibition.ExhibBeginYear.astype('int64')})\n",
    "exhibitions.dtypes"
   ]
  },
  {
   "cell_type": "code",
   "execution_count": 157,
   "metadata": {},
   "outputs": [
    {
     "data": {
      "text/html": [
       "<div>\n",
       "<style scoped>\n",
       "    .dataframe tbody tr th:only-of-type {\n",
       "        vertical-align: middle;\n",
       "    }\n",
       "\n",
       "    .dataframe tbody tr th {\n",
       "        vertical-align: top;\n",
       "    }\n",
       "\n",
       "    .dataframe thead th {\n",
       "        text-align: right;\n",
       "    }\n",
       "</style>\n",
       "<table border=\"1\" class=\"dataframe\">\n",
       "  <thead>\n",
       "    <tr style=\"text-align: right;\">\n",
       "      <th></th>\n",
       "      <th>id</th>\n",
       "      <th>name</th>\n",
       "      <th>begin_year</th>\n",
       "    </tr>\n",
       "  </thead>\n",
       "  <tbody>\n",
       "    <tr>\n",
       "      <th>0</th>\n",
       "      <td>3628</td>\n",
       "      <td>Léon Bonvin (1834-1866)</td>\n",
       "      <td>2022</td>\n",
       "    </tr>\n",
       "    <tr>\n",
       "      <th>1</th>\n",
       "      <td>3696</td>\n",
       "      <td>Sargent, Whistler, and Venetian Glass: America...</td>\n",
       "      <td>2021</td>\n",
       "    </tr>\n",
       "    <tr>\n",
       "      <th>2</th>\n",
       "      <td>3735</td>\n",
       "      <td>Hugo van der Goes</td>\n",
       "      <td>2021</td>\n",
       "    </tr>\n",
       "    <tr>\n",
       "      <th>3</th>\n",
       "      <td>3786</td>\n",
       "      <td>Quiet Beauty: The Watercolors of Léon Bonvin</td>\n",
       "      <td>2023</td>\n",
       "    </tr>\n",
       "    <tr>\n",
       "      <th>4</th>\n",
       "      <td>3581</td>\n",
       "      <td>Caravans of Gold, Fragments in Time: Art, Cult...</td>\n",
       "      <td>2019</td>\n",
       "    </tr>\n",
       "  </tbody>\n",
       "</table>\n",
       "</div>"
      ],
      "text/plain": [
       "     id                                               name  begin_year\n",
       "0  3628                            Léon Bonvin (1834-1866)        2022\n",
       "1  3696  Sargent, Whistler, and Venetian Glass: America...        2021\n",
       "2  3735                                  Hugo van der Goes        2021\n",
       "3  3786       Quiet Beauty: The Watercolors of Léon Bonvin        2023\n",
       "4  3581  Caravans of Gold, Fragments in Time: Art, Cult...        2019"
      ]
     },
     "execution_count": 157,
     "metadata": {},
     "output_type": "execute_result"
    }
   ],
   "source": [
    "exhibitions.head()"
   ]
  },
  {
   "cell_type": "code",
   "execution_count": 158,
   "metadata": {},
   "outputs": [],
   "source": [
    "museum_artwork_creator = pd.DataFrame({'artwork_id': museum_artwork_creator.ObjectID, 'creator_id': museum_artwork_creator.Creators.astype('int64')})"
   ]
  },
  {
   "cell_type": "code",
   "execution_count": 159,
   "metadata": {},
   "outputs": [],
   "source": [
    "museum_artwork_exhibition = pd.DataFrame({'artwork_id': museum_artwork_exhibition.ObjectID, 'exhibition_id': museum_artwork_exhibition.Exhibitions.astype('int64')})"
   ]
  },
  {
   "cell_type": "code",
   "execution_count": 160,
   "metadata": {},
   "outputs": [],
   "source": [
    "museum_artwork_collection.dropna(inplace=True)"
   ]
  },
  {
   "cell_type": "code",
   "execution_count": 161,
   "metadata": {},
   "outputs": [],
   "source": [
    "museum_artwork_collection.CollectionID = museum_artwork_collection.CollectionID.astype(str)"
   ]
  },
  {
   "cell_type": "code",
   "execution_count": 162,
   "metadata": {},
   "outputs": [],
   "source": [
    "museum_artwork_collection = museum_artwork_collection.loc[museum_artwork_collection.CollectionID.str.isnumeric()]"
   ]
  },
  {
   "cell_type": "code",
   "execution_count": 163,
   "metadata": {},
   "outputs": [],
   "source": [
    "museum_artwork_collection = pd.DataFrame({'artwork_id': museum_artwork_collection.ObjectID, 'collection_id': museum_artwork_collection.CollectionID.astype('int64')})"
   ]
  },
  {
   "cell_type": "markdown",
   "metadata": {},
   "source": [
    "## Select data for the algorithm"
   ]
  },
  {
   "cell_type": "code",
   "execution_count": 164,
   "metadata": {},
   "outputs": [
    {
     "data": {
      "text/html": [
       "<div>\n",
       "<style scoped>\n",
       "    .dataframe tbody tr th:only-of-type {\n",
       "        vertical-align: middle;\n",
       "    }\n",
       "\n",
       "    .dataframe tbody tr th {\n",
       "        vertical-align: top;\n",
       "    }\n",
       "\n",
       "    .dataframe thead th {\n",
       "        text-align: right;\n",
       "    }\n",
       "</style>\n",
       "<table border=\"1\" class=\"dataframe\">\n",
       "  <thead>\n",
       "    <tr style=\"text-align: right;\">\n",
       "      <th></th>\n",
       "      <th>Unnamed: 0</th>\n",
       "      <th>creator_id</th>\n",
       "      <th>sort_name</th>\n",
       "      <th>name</th>\n",
       "      <th>creator_gender</th>\n",
       "      <th>creator_nationality</th>\n",
       "      <th>CreatorArtwork</th>\n",
       "    </tr>\n",
       "  </thead>\n",
       "  <tbody>\n",
       "    <tr>\n",
       "      <th>0</th>\n",
       "      <td>NaN</td>\n",
       "      <td>1889</td>\n",
       "      <td>Taylor, Eleanor</td>\n",
       "      <td>Eleanor Taylor</td>\n",
       "      <td>female</td>\n",
       "      <td>English</td>\n",
       "      <td>32540</td>\n",
       "    </tr>\n",
       "    <tr>\n",
       "      <th>1</th>\n",
       "      <td>NaN</td>\n",
       "      <td>1903</td>\n",
       "      <td>Peeters, Isabella</td>\n",
       "      <td>Isabella Peeters</td>\n",
       "      <td>female</td>\n",
       "      <td>Flemish</td>\n",
       "      <td>13532, 21111</td>\n",
       "    </tr>\n",
       "    <tr>\n",
       "      <th>2</th>\n",
       "      <td>NaN</td>\n",
       "      <td>2132</td>\n",
       "      <td>Sharples, Ellen</td>\n",
       "      <td>Ellen Sharples</td>\n",
       "      <td>female</td>\n",
       "      <td>English</td>\n",
       "      <td>10117</td>\n",
       "    </tr>\n",
       "    <tr>\n",
       "      <th>3</th>\n",
       "      <td>NaN</td>\n",
       "      <td>3073</td>\n",
       "      <td>Bateman, Hester</td>\n",
       "      <td>Hester Bateman</td>\n",
       "      <td>female</td>\n",
       "      <td>English</td>\n",
       "      <td>8495</td>\n",
       "    </tr>\n",
       "    <tr>\n",
       "      <th>4</th>\n",
       "      <td>NaN</td>\n",
       "      <td>3209</td>\n",
       "      <td>Hall, Anne</td>\n",
       "      <td>Anne Hall</td>\n",
       "      <td>female</td>\n",
       "      <td>American</td>\n",
       "      <td>5863</td>\n",
       "    </tr>\n",
       "  </tbody>\n",
       "</table>\n",
       "</div>"
      ],
      "text/plain": [
       "   Unnamed: 0  creator_id          sort_name              name creator_gender  \\\n",
       "0         NaN        1889    Taylor, Eleanor    Eleanor Taylor         female   \n",
       "1         NaN        1903  Peeters, Isabella  Isabella Peeters         female   \n",
       "2         NaN        2132    Sharples, Ellen    Ellen Sharples         female   \n",
       "3         NaN        3073    Bateman, Hester    Hester Bateman         female   \n",
       "4         NaN        3209         Hall, Anne         Anne Hall         female   \n",
       "\n",
       "  creator_nationality CreatorArtwork  \n",
       "0             English          32540  \n",
       "1             Flemish   13532, 21111  \n",
       "2             English          10117  \n",
       "3             English           8495  \n",
       "4            American           5863  "
      ]
     },
     "execution_count": 164,
     "metadata": {},
     "output_type": "execute_result"
    }
   ],
   "source": [
    "selected_creators = pd.read_csv('selectedcreators.csv', sep=\";\", encoding=\"utf-8\")\n",
    "selected_creators.head()"
   ]
  },
  {
   "cell_type": "code",
   "execution_count": 165,
   "metadata": {},
   "outputs": [],
   "source": [
    "selected_creators.creator_id = selected_creators.creator_id.astype('int64')"
   ]
  },
  {
   "cell_type": "code",
   "execution_count": 166,
   "metadata": {},
   "outputs": [
    {
     "data": {
      "text/html": [
       "<div>\n",
       "<style scoped>\n",
       "    .dataframe tbody tr th:only-of-type {\n",
       "        vertical-align: middle;\n",
       "    }\n",
       "\n",
       "    .dataframe tbody tr th {\n",
       "        vertical-align: top;\n",
       "    }\n",
       "\n",
       "    .dataframe thead th {\n",
       "        text-align: right;\n",
       "    }\n",
       "</style>\n",
       "<table border=\"1\" class=\"dataframe\">\n",
       "  <thead>\n",
       "    <tr style=\"text-align: right;\">\n",
       "      <th></th>\n",
       "      <th>id</th>\n",
       "      <th>name</th>\n",
       "      <th>url</th>\n",
       "      <th>gender</th>\n",
       "      <th>nationality</th>\n",
       "    </tr>\n",
       "  </thead>\n",
       "  <tbody>\n",
       "    <tr>\n",
       "      <th>25</th>\n",
       "      <td>7870</td>\n",
       "      <td>Katherine Adams</td>\n",
       "      <td>https://art.thewalters.org/browse/creator/kath...</td>\n",
       "      <td>female</td>\n",
       "      <td></td>\n",
       "    </tr>\n",
       "    <tr>\n",
       "      <th>27</th>\n",
       "      <td>8127</td>\n",
       "      <td>Mariia V. Adler</td>\n",
       "      <td>https://art.thewalters.org/browse/creator/mari...</td>\n",
       "      <td>female</td>\n",
       "      <td>Russian</td>\n",
       "    </tr>\n",
       "    <tr>\n",
       "      <th>92</th>\n",
       "      <td>5485</td>\n",
       "      <td>Sofonisba Anguissola</td>\n",
       "      <td>https://art.thewalters.org/browse/creator/sofo...</td>\n",
       "      <td>female</td>\n",
       "      <td>Italian</td>\n",
       "    </tr>\n",
       "    <tr>\n",
       "      <th>107</th>\n",
       "      <td>5934</td>\n",
       "      <td>José Jiménez Aranda</td>\n",
       "      <td>https://art.thewalters.org/browse/creator/josc...</td>\n",
       "      <td>male</td>\n",
       "      <td>Spanish</td>\n",
       "    </tr>\n",
       "    <tr>\n",
       "      <th>173</th>\n",
       "      <td>6727</td>\n",
       "      <td>Gerardina Jacoba van de Sande Bakhuyzen</td>\n",
       "      <td>https://art.thewalters.org/browse/creator/gera...</td>\n",
       "      <td>female</td>\n",
       "      <td>Dutch</td>\n",
       "    </tr>\n",
       "  </tbody>\n",
       "</table>\n",
       "</div>"
      ],
      "text/plain": [
       "       id                                     name  \\\n",
       "25   7870                          Katherine Adams   \n",
       "27   8127                          Mariia V. Adler   \n",
       "92   5485                     Sofonisba Anguissola   \n",
       "107  5934                      José Jiménez Aranda   \n",
       "173  6727  Gerardina Jacoba van de Sande Bakhuyzen   \n",
       "\n",
       "                                                   url  gender nationality  \n",
       "25   https://art.thewalters.org/browse/creator/kath...  female              \n",
       "27   https://art.thewalters.org/browse/creator/mari...  female     Russian  \n",
       "92   https://art.thewalters.org/browse/creator/sofo...  female     Italian  \n",
       "107  https://art.thewalters.org/browse/creator/josc...    male     Spanish  \n",
       "173  https://art.thewalters.org/browse/creator/gera...  female       Dutch  "
      ]
     },
     "execution_count": 166,
     "metadata": {},
     "output_type": "execute_result"
    }
   ],
   "source": [
    "creators = creators.loc[creators.id.isin(selected_creators.creator_id)]\n",
    "creators.head()"
   ]
  },
  {
   "cell_type": "code",
   "execution_count": 167,
   "metadata": {},
   "outputs": [
    {
     "data": {
      "text/plain": [
       "(74, 5)"
      ]
     },
     "execution_count": 167,
     "metadata": {},
     "output_type": "execute_result"
    }
   ],
   "source": [
    "creators.shape"
   ]
  },
  {
   "cell_type": "code",
   "execution_count": 168,
   "metadata": {},
   "outputs": [
    {
     "data": {
      "text/plain": [
       "artwork_id    int64\n",
       "creator_id    int64\n",
       "dtype: object"
      ]
     },
     "execution_count": 168,
     "metadata": {},
     "output_type": "execute_result"
    }
   ],
   "source": [
    "museum_artwork_creator.dtypes"
   ]
  },
  {
   "cell_type": "code",
   "execution_count": 169,
   "metadata": {},
   "outputs": [
    {
     "data": {
      "text/html": [
       "<div>\n",
       "<style scoped>\n",
       "    .dataframe tbody tr th:only-of-type {\n",
       "        vertical-align: middle;\n",
       "    }\n",
       "\n",
       "    .dataframe tbody tr th {\n",
       "        vertical-align: top;\n",
       "    }\n",
       "\n",
       "    .dataframe thead th {\n",
       "        text-align: right;\n",
       "    }\n",
       "</style>\n",
       "<table border=\"1\" class=\"dataframe\">\n",
       "  <thead>\n",
       "    <tr style=\"text-align: right;\">\n",
       "      <th></th>\n",
       "      <th>artwork_id</th>\n",
       "      <th>creator_id</th>\n",
       "    </tr>\n",
       "  </thead>\n",
       "  <tbody>\n",
       "    <tr>\n",
       "      <th>115</th>\n",
       "      <td>575</td>\n",
       "      <td>3533</td>\n",
       "    </tr>\n",
       "    <tr>\n",
       "      <th>229</th>\n",
       "      <td>1196</td>\n",
       "      <td>4570</td>\n",
       "    </tr>\n",
       "    <tr>\n",
       "      <th>261</th>\n",
       "      <td>1327</td>\n",
       "      <td>4493</td>\n",
       "    </tr>\n",
       "    <tr>\n",
       "      <th>273</th>\n",
       "      <td>1377</td>\n",
       "      <td>5485</td>\n",
       "    </tr>\n",
       "    <tr>\n",
       "      <th>540</th>\n",
       "      <td>2659</td>\n",
       "      <td>6011</td>\n",
       "    </tr>\n",
       "  </tbody>\n",
       "</table>\n",
       "</div>"
      ],
      "text/plain": [
       "     artwork_id  creator_id\n",
       "115         575        3533\n",
       "229        1196        4570\n",
       "261        1327        4493\n",
       "273        1377        5485\n",
       "540        2659        6011"
      ]
     },
     "execution_count": 169,
     "metadata": {},
     "output_type": "execute_result"
    }
   ],
   "source": [
    "museum_artwork_creator = museum_artwork_creator.loc[museum_artwork_creator.creator_id.isin(selected_creators.creator_id)]\n",
    "museum_artwork_creator.head()"
   ]
  },
  {
   "cell_type": "code",
   "execution_count": 170,
   "metadata": {},
   "outputs": [
    {
     "data": {
      "text/plain": [
       "(604, 2)"
      ]
     },
     "execution_count": 170,
     "metadata": {},
     "output_type": "execute_result"
    }
   ],
   "source": [
    "museum_artwork_creator.shape"
   ]
  },
  {
   "cell_type": "code",
   "execution_count": 171,
   "metadata": {},
   "outputs": [
    {
     "data": {
      "text/html": [
       "<div>\n",
       "<style scoped>\n",
       "    .dataframe tbody tr th:only-of-type {\n",
       "        vertical-align: middle;\n",
       "    }\n",
       "\n",
       "    .dataframe tbody tr th {\n",
       "        vertical-align: top;\n",
       "    }\n",
       "\n",
       "    .dataframe thead th {\n",
       "        text-align: right;\n",
       "    }\n",
       "</style>\n",
       "<table border=\"1\" class=\"dataframe\">\n",
       "  <thead>\n",
       "    <tr style=\"text-align: right;\">\n",
       "      <th></th>\n",
       "      <th>id</th>\n",
       "      <th>type</th>\n",
       "      <th>date_begin_year</th>\n",
       "      <th>date_end_year</th>\n",
       "      <th>title</th>\n",
       "      <th>medium</th>\n",
       "      <th>url</th>\n",
       "      <th>description</th>\n",
       "    </tr>\n",
       "  </thead>\n",
       "  <tbody>\n",
       "    <tr>\n",
       "      <th>115</th>\n",
       "      <td>575</td>\n",
       "      <td>oil paintings (visual works); panel paintings</td>\n",
       "      <td>1801</td>\n",
       "      <td>1900</td>\n",
       "      <td>The Important Response</td>\n",
       "      <td>oil on panel</td>\n",
       "      <td>https://art.thewalters.org/detail/575</td>\n",
       "      <td>&lt;p&gt;A lady in early 17th-century attire is seat...</td>\n",
       "    </tr>\n",
       "    <tr>\n",
       "      <th>229</th>\n",
       "      <td>1196</td>\n",
       "      <td>plaques</td>\n",
       "      <td>1588</td>\n",
       "      <td>1612</td>\n",
       "      <td>Oval Plaque with the Annunciation</td>\n",
       "      <td>painted enamel and gilding on copper</td>\n",
       "      <td>https://art.thewalters.org/detail/1196</td>\n",
       "      <td>&lt;p&gt;Monogrammed \"S. C.\" in gold letters near th...</td>\n",
       "    </tr>\n",
       "    <tr>\n",
       "      <th>261</th>\n",
       "      <td>1327</td>\n",
       "      <td>boxes (containers)</td>\n",
       "      <td>1900</td>\n",
       "      <td>1917</td>\n",
       "      <td>Oval Box with Monogram of Nicholas II</td>\n",
       "      <td>nephrite, gold (56 zolotnik), diamonds, enamel</td>\n",
       "      <td>https://art.thewalters.org/detail/1327</td>\n",
       "      <td>&lt;p&gt;This nephrite box is decorated with the mon...</td>\n",
       "    </tr>\n",
       "    <tr>\n",
       "      <th>273</th>\n",
       "      <td>1377</td>\n",
       "      <td>portraits; oil paintings</td>\n",
       "      <td>1557</td>\n",
       "      <td>1557</td>\n",
       "      <td>Portrait of Marquess Massimiliano Stampa</td>\n",
       "      <td>oil on canvas</td>\n",
       "      <td>https://art.thewalters.org/detail/1377</td>\n",
       "      <td>&lt;p&gt;The boy can be identified as the nine-year-...</td>\n",
       "    </tr>\n",
       "    <tr>\n",
       "      <th>540</th>\n",
       "      <td>2659</td>\n",
       "      <td>plates</td>\n",
       "      <td>1924</td>\n",
       "      <td>1930</td>\n",
       "      <td>Plate Showing Imps on a Bridge and Tree House</td>\n",
       "      <td>lusterware</td>\n",
       "      <td>https://art.thewalters.org/detail/2659</td>\n",
       "      <td>&lt;p&gt;The Wedgwood factory gave Susannah Margaret...</td>\n",
       "    </tr>\n",
       "  </tbody>\n",
       "</table>\n",
       "</div>"
      ],
      "text/plain": [
       "       id                                           type  date_begin_year  \\\n",
       "115   575  oil paintings (visual works); panel paintings             1801   \n",
       "229  1196                                        plaques             1588   \n",
       "261  1327                             boxes (containers)             1900   \n",
       "273  1377                       portraits; oil paintings             1557   \n",
       "540  2659                                         plates             1924   \n",
       "\n",
       "     date_end_year                                          title  \\\n",
       "115           1900                         The Important Response   \n",
       "229           1612              Oval Plaque with the Annunciation   \n",
       "261           1917          Oval Box with Monogram of Nicholas II   \n",
       "273           1557       Portrait of Marquess Massimiliano Stampa   \n",
       "540           1930  Plate Showing Imps on a Bridge and Tree House   \n",
       "\n",
       "                                             medium  \\\n",
       "115                                    oil on panel   \n",
       "229            painted enamel and gilding on copper   \n",
       "261  nephrite, gold (56 zolotnik), diamonds, enamel   \n",
       "273                                   oil on canvas   \n",
       "540                                      lusterware   \n",
       "\n",
       "                                        url  \\\n",
       "115   https://art.thewalters.org/detail/575   \n",
       "229  https://art.thewalters.org/detail/1196   \n",
       "261  https://art.thewalters.org/detail/1327   \n",
       "273  https://art.thewalters.org/detail/1377   \n",
       "540  https://art.thewalters.org/detail/2659   \n",
       "\n",
       "                                           description  \n",
       "115  <p>A lady in early 17th-century attire is seat...  \n",
       "229  <p>Monogrammed \"S. C.\" in gold letters near th...  \n",
       "261  <p>This nephrite box is decorated with the mon...  \n",
       "273  <p>The boy can be identified as the nine-year-...  \n",
       "540  <p>The Wedgwood factory gave Susannah Margaret...  "
      ]
     },
     "execution_count": 171,
     "metadata": {},
     "output_type": "execute_result"
    }
   ],
   "source": [
    "artworks = artworks.loc[artworks.id.isin(museum_artwork_creator.artwork_id)]\n",
    "artworks.head()"
   ]
  },
  {
   "cell_type": "code",
   "execution_count": 172,
   "metadata": {},
   "outputs": [
    {
     "data": {
      "text/plain": [
       "(597, 8)"
      ]
     },
     "execution_count": 172,
     "metadata": {},
     "output_type": "execute_result"
    }
   ],
   "source": [
    "artworks.shape"
   ]
  },
  {
   "cell_type": "code",
   "execution_count": 173,
   "metadata": {},
   "outputs": [
    {
     "data": {
      "text/html": [
       "<div>\n",
       "<style scoped>\n",
       "    .dataframe tbody tr th:only-of-type {\n",
       "        vertical-align: middle;\n",
       "    }\n",
       "\n",
       "    .dataframe tbody tr th {\n",
       "        vertical-align: top;\n",
       "    }\n",
       "\n",
       "    .dataframe thead th {\n",
       "        text-align: right;\n",
       "    }\n",
       "</style>\n",
       "<table border=\"1\" class=\"dataframe\">\n",
       "  <thead>\n",
       "    <tr style=\"text-align: right;\">\n",
       "      <th></th>\n",
       "      <th>artwork_id</th>\n",
       "      <th>collection_id</th>\n",
       "    </tr>\n",
       "  </thead>\n",
       "  <tbody>\n",
       "    <tr>\n",
       "      <th>115</th>\n",
       "      <td>575</td>\n",
       "      <td>24</td>\n",
       "    </tr>\n",
       "    <tr>\n",
       "      <th>229</th>\n",
       "      <td>1196</td>\n",
       "      <td>18</td>\n",
       "    </tr>\n",
       "    <tr>\n",
       "      <th>261</th>\n",
       "      <td>1327</td>\n",
       "      <td>24</td>\n",
       "    </tr>\n",
       "    <tr>\n",
       "      <th>273</th>\n",
       "      <td>1377</td>\n",
       "      <td>5</td>\n",
       "    </tr>\n",
       "    <tr>\n",
       "      <th>540</th>\n",
       "      <td>2659</td>\n",
       "      <td>24</td>\n",
       "    </tr>\n",
       "  </tbody>\n",
       "</table>\n",
       "</div>"
      ],
      "text/plain": [
       "     artwork_id  collection_id\n",
       "115         575             24\n",
       "229        1196             18\n",
       "261        1327             24\n",
       "273        1377              5\n",
       "540        2659             24"
      ]
     },
     "execution_count": 173,
     "metadata": {},
     "output_type": "execute_result"
    }
   ],
   "source": [
    "museum_artwork_collection = museum_artwork_collection.loc[museum_artwork_collection.artwork_id.isin(artworks.id)]\n",
    "museum_artwork_collection.head()"
   ]
  },
  {
   "cell_type": "code",
   "execution_count": 174,
   "metadata": {},
   "outputs": [
    {
     "data": {
      "text/plain": [
       "(1454, 2)"
      ]
     },
     "execution_count": 174,
     "metadata": {},
     "output_type": "execute_result"
    }
   ],
   "source": [
    "museum_artwork_collection.shape"
   ]
  },
  {
   "cell_type": "code",
   "execution_count": 175,
   "metadata": {},
   "outputs": [
    {
     "data": {
      "text/html": [
       "<div>\n",
       "<style scoped>\n",
       "    .dataframe tbody tr th:only-of-type {\n",
       "        vertical-align: middle;\n",
       "    }\n",
       "\n",
       "    .dataframe tbody tr th {\n",
       "        vertical-align: top;\n",
       "    }\n",
       "\n",
       "    .dataframe thead th {\n",
       "        text-align: right;\n",
       "    }\n",
       "</style>\n",
       "<table border=\"1\" class=\"dataframe\">\n",
       "  <thead>\n",
       "    <tr style=\"text-align: right;\">\n",
       "      <th></th>\n",
       "      <th>artwork_id</th>\n",
       "      <th>exhibition_id</th>\n",
       "    </tr>\n",
       "  </thead>\n",
       "  <tbody>\n",
       "    <tr>\n",
       "      <th>115</th>\n",
       "      <td>575</td>\n",
       "      <td>2674</td>\n",
       "    </tr>\n",
       "    <tr>\n",
       "      <th>229</th>\n",
       "      <td>1196</td>\n",
       "      <td>2299</td>\n",
       "    </tr>\n",
       "    <tr>\n",
       "      <th>261</th>\n",
       "      <td>1327</td>\n",
       "      <td>2062</td>\n",
       "    </tr>\n",
       "    <tr>\n",
       "      <th>261</th>\n",
       "      <td>1327</td>\n",
       "      <td>2689</td>\n",
       "    </tr>\n",
       "    <tr>\n",
       "      <th>261</th>\n",
       "      <td>1327</td>\n",
       "      <td>2819</td>\n",
       "    </tr>\n",
       "  </tbody>\n",
       "</table>\n",
       "</div>"
      ],
      "text/plain": [
       "     artwork_id  exhibition_id\n",
       "115         575           2674\n",
       "229        1196           2299\n",
       "261        1327           2062\n",
       "261        1327           2689\n",
       "261        1327           2819"
      ]
     },
     "execution_count": 175,
     "metadata": {},
     "output_type": "execute_result"
    }
   ],
   "source": [
    "museum_artwork_exhibition = museum_artwork_exhibition.loc[museum_artwork_exhibition.artwork_id.isin(artworks.id)]\n",
    "museum_artwork_exhibition.head()"
   ]
  },
  {
   "cell_type": "code",
   "execution_count": 176,
   "metadata": {},
   "outputs": [
    {
     "data": {
      "text/plain": [
       "(262, 2)"
      ]
     },
     "execution_count": 176,
     "metadata": {},
     "output_type": "execute_result"
    }
   ],
   "source": [
    "museum_artwork_exhibition.shape"
   ]
  },
  {
   "cell_type": "code",
   "execution_count": 177,
   "metadata": {},
   "outputs": [],
   "source": [
    "# the entities\n",
    "creators.to_csv(index=False, path_or_buf='curateddata/Creators.csv')\n",
    "artworks.to_csv(index=False, path_or_buf='curateddata/Artworks.csv')\n",
    "collections.to_csv(index=False, path_or_buf='curateddata/Collections.csv')\n",
    "exhibitions.to_csv(index=False, path_or_buf='curateddata/Exhibitions.csv')"
   ]
  },
  {
   "cell_type": "code",
   "execution_count": 178,
   "metadata": {},
   "outputs": [],
   "source": [
    "# the many to many relations\n",
    "museum_artwork_creator.to_csv(index=False, path_or_buf='curateddata/ArtworkCreator.csv')\n",
    "museum_artwork_exhibition.to_csv(index=False, path_or_buf='curateddata/ArtworkExhibition.csv')\n",
    "museum_artwork_collection.to_csv(index=False, path_or_buf='curateddata/ArtworkCollection.csv')"
   ]
  },
  {
   "cell_type": "code",
   "execution_count": 179,
   "metadata": {},
   "outputs": [
    {
     "data": {
      "text/plain": [
       "(604, 2)"
      ]
     },
     "execution_count": 179,
     "metadata": {},
     "output_type": "execute_result"
    }
   ],
   "source": [
    "test = pd.read_csv('curateddata/ArtworkCreator.csv', sep=\",\", encoding=\"utf-8\")\n",
    "test.shape"
   ]
  }
 ],
 "metadata": {
  "kernelspec": {
   "display_name": "base",
   "language": "python",
   "name": "python3"
  },
  "language_info": {
   "codemirror_mode": {
    "name": "ipython",
    "version": 3
   },
   "file_extension": ".py",
   "mimetype": "text/x-python",
   "name": "python",
   "nbconvert_exporter": "python",
   "pygments_lexer": "ipython3",
   "version": "3.9.13"
  }
 },
 "nbformat": 4,
 "nbformat_minor": 2
}
